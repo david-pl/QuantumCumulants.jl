{
 "cells": [
  {
   "cell_type": "code",
   "execution_count": 16,
   "metadata": {},
   "outputs": [],
   "source": [
    "using QuantumOptics\n",
    "using OrdinaryDiffEq\n",
    "using ModelingToolkit\n",
    "using LinearAlgebra\n",
    "using Symbolics\n",
    "using SymbolicUtils\n",
    "using DifferentialEquations"
   ]
  },
  {
   "cell_type": "code",
   "execution_count": 17,
   "metadata": {},
   "outputs": [
    {
     "name": "stderr",
     "output_type": "stream",
     "text": [
      "WARNING: redefinition of constant transition_idx_script. This may fail, cause incorrect answers, or produce other errors.\n",
      "WARNING: replacing module QuantumCumulants.\n",
      "WARNING: redefinition of constant transition_idx_script. This may fail, cause incorrect answers, or produce other errors.\n",
      "WARNING: redefinition of constant transition_idx_script. This may fail, cause incorrect answers, or produce other errors.\n",
      "WARNING: redefinition of constant transition_idx_script. This may fail, cause incorrect answers, or produce other errors.\n",
      "WARNING: replacing module QuantumCumulants.\n",
      "WARNING: replacing module QuantumCumulants.\n",
      "WARNING: replacing module QuantumCumulants.\n"
     ]
    },
    {
     "data": {
      "text/plain": [
       "indexed_master_lindblad (generic function with 1 method)"
      ]
     },
     "execution_count": 17,
     "metadata": {},
     "output_type": "execute_result"
    }
   ],
   "source": [
    "include(\"src/indexing.jl\")\n",
    "include(\"src/doubleSums.jl\")\n",
    "include(\"src/averageSums.jl\")\n",
    "include(\"src/indexedMeanfield.jl\")"
   ]
  },
  {
   "cell_type": "code",
   "execution_count": 18,
   "metadata": {},
   "outputs": [
    {
     "data": {
      "text/plain": [
       "σ (generic function with 1 method)"
      ]
     },
     "execution_count": 18,
     "metadata": {},
     "output_type": "execute_result"
    }
   ],
   "source": [
    "N = 20\n",
    "@cnumbers Δ\n",
    "\n",
    "#Define Hilberspaces, one for atom, one for field\n",
    "ha = NLevelSpace(:a,2)\n",
    "hf= FockSpace(:field)\n",
    "h = tensor(hf,ha)\n",
    "\n",
    "#define operators\n",
    "a = Destroy(h,:a)\n",
    "σ(i,j) = Transition(h,:σ,i,j)"
   ]
  },
  {
   "cell_type": "code",
   "execution_count": 19,
   "metadata": {},
   "outputs": [
    {
     "data": {
      "text/plain": [
       "σ12l"
      ]
     },
     "execution_count": 19,
     "metadata": {},
     "output_type": "execute_result"
    }
   ],
   "source": [
    "#define different indices\n",
    "j_ind = Index(h,:j,N)\n",
    "k_ind = Index(h,:k,N)\n",
    "l_ind = Index(h,:l,N)\n",
    "\n",
    "#define a indexed varaible: g with index j: gⱼ\n",
    "g_j = IndexedVariable(:g,j_ind)\n",
    "\n",
    "#define some operators:\n",
    "\n",
    "#with Index j\n",
    "σ12_j = IndexedOperator(σ(1,2),j_ind)\n",
    "σ21_j = IndexedOperator(σ(2,1),j_ind)\n",
    "\n",
    "#with Index k\n",
    "σ12_k = IndexedOperator(σ(1,2),k_ind)\n",
    "σ21_k = IndexedOperator(σ(2,1),k_ind)\n",
    "σ22_k = IndexedOperator(σ(2,2),k_ind)\n",
    "\n",
    "#with Index l\n",
    "σ12_l = IndexedOperator(σ(1,2),l_ind)"
   ]
  },
  {
   "cell_type": "code",
   "execution_count": 20,
   "metadata": {},
   "outputs": [
    {
     "data": {
      "text/plain": [
       "(Σ(j=1:20)gj*(a′*σ12j)+Σ(j=1:20)gj*(a*σ21j)+-Δ*(a′*a))"
      ]
     },
     "execution_count": 20,
     "metadata": {},
     "output_type": "execute_result"
    }
   ],
   "source": [
    "#Define Sums\n",
    "sum1 = IndexedSingleSum(g_j*σ12_j*a',j_ind)\n",
    "sum2 = IndexedSingleSum(g_j*σ21_j*a,j_ind)\n",
    "\n",
    "#can also be done in one step as:\n",
    "IndexedSum = IndexedSingleSum((g_j*σ12_j*a' + g_j*σ21_j*a),j_ind)\n",
    "\n",
    "#Hamiltonian:\n",
    "H = -Δ*a'*a + IndexedSum"
   ]
  },
  {
   "cell_type": "code",
   "execution_count": 21,
   "metadata": {},
   "outputs": [
    {
     "data": {
      "text/plain": [
       "(Σ(j=1:20)gj*(a′*σ12j)+Σ(j=1:20)gj*(a*σ21j))"
      ]
     },
     "execution_count": 21,
     "metadata": {},
     "output_type": "execute_result"
    }
   ],
   "source": [
    "sum1+sum2"
   ]
  },
  {
   "cell_type": "code",
   "execution_count": 22,
   "metadata": {},
   "outputs": [
    {
     "data": {
      "text/plain": [
       "(Σ(j=1:20)(j≠k)gj*(σ21j*σ12k)+gk*(σ22k)+-gk*(a′*a)+2gk*(a′*a*σ22k)+-Δ*(a′*σ12k))"
      ]
     },
     "execution_count": 22,
     "metadata": {},
     "output_type": "execute_result"
    }
   ],
   "source": [
    "#Example 1: calculate commutators\n",
    "simplify(commutator(H,a'*σ12_k))"
   ]
  },
  {
   "cell_type": "code",
   "execution_count": 23,
   "metadata": {},
   "outputs": [
    {
     "data": {
      "text/plain": [
       "(gk*(a′*σ12k)+-gk*(a*σ21k))"
      ]
     },
     "execution_count": 23,
     "metadata": {},
     "output_type": "execute_result"
    }
   ],
   "source": [
    "simplify(commutator(H,σ22_k))"
   ]
  },
  {
   "cell_type": "code",
   "execution_count": 24,
   "metadata": {},
   "outputs": [
    {
     "data": {
      "text/plain": [
       "∂ₜ(⟨σ22k⟩) = (0 + 1im)*gk*⟨a′*σ12k⟩ + (0 - 1im)*gk*⟨a*σ21k⟩ - ⟨σ22k⟩\n"
      ]
     },
     "execution_count": 24,
     "metadata": {},
     "output_type": "execute_result"
    }
   ],
   "source": [
    "#Example: calculate Meanfield-equations for the k-th atom\n",
    "ops = [σ22_k]\n",
    "J = [σ12_k]\n",
    "rates = 1.0\n",
    "\n",
    "de = meanfield(ops,H,J;rates=rates,order=2)"
   ]
  },
  {
   "cell_type": "code",
   "execution_count": 25,
   "metadata": {},
   "outputs": [
    {
     "data": {
      "text/plain": [
       "∂ₜ(⟨σ22k⟩) = (0 + 1im)*gk*⟨a′⟩*⟨σ12k⟩ + (0 - 1im)*gk*⟨a⟩*⟨σ21k⟩ - ⟨σ22k⟩\n",
       "∂ₜ(⟨a′⟩) = (0 + 1im)*var\"Σ(j=1:20)gj*⟨σ21j⟩\" + (0 - 1im)*Δ*⟨a′⟩\n",
       "∂ₜ(⟨σ12k⟩) = (0 - 1im)*gk*⟨a⟩ + (0 + 2im)*gk*⟨a⟩*⟨σ22k⟩ - 0.5⟨σ12k⟩\n"
      ]
     },
     "execution_count": 25,
     "metadata": {},
     "output_type": "execute_result"
    }
   ],
   "source": [
    "#complete equations in first order\n",
    "eqs_com = complete(de;order=1)"
   ]
  },
  {
   "cell_type": "code",
   "execution_count": 26,
   "metadata": {},
   "outputs": [
    {
     "data": {
      "text/plain": [
       "∂ₜ(⟨σ22k⟩) = (0 + 1im)*gk*⟨a′*σ12k⟩ + (0 - 1im)*gk*⟨a*σ21k⟩ - ⟨σ22k⟩\n",
       "∂ₜ(⟨a′*σ12k⟩) = (0 + 1im)*var\"Σ(j=1:20)(j≠k)gj*⟨σ21j*σ12k⟩\" + (0 + 1im)*gk*⟨σ22k⟩ + (0 + 2im)*gk*(⟨σ22k⟩*⟨a′*a⟩ + ⟨a⟩*⟨a′*σ22k⟩ + ⟨a′⟩*⟨a*σ22k⟩ - 2⟨a′⟩*⟨a⟩*⟨σ22k⟩) + (0 - 1im)*gk*⟨a′*a⟩ + (0 - 1im)*Δ*⟨a′*σ12k⟩\n",
       "∂ₜ(⟨a*σ21k⟩) = (0 - 1im)*var\"Σ(j=1:20)(j≠k)gj*⟨σ12j*σ21k⟩\" + (0 - 1im)*gk*⟨σ22k⟩ + (0 - 2im)*gk*(⟨σ22k⟩*⟨a′*a⟩ + ⟨a⟩*⟨a′*σ22k⟩ + ⟨a′⟩*⟨a*σ22k⟩ - 2⟨a′⟩*⟨a⟩*⟨σ22k⟩) + (0 + 1im)*gk*⟨a′*a⟩ + (0 + 1im)*Δ*⟨a*σ21k⟩ - 0.5⟨a*σ21k⟩\n",
       "∂ₜ(⟨a′*a⟩) = (0 + 1im)*var\"Σ(j=1:20)gj*⟨a*σ21j⟩\" + (0 - 1im)*var\"Σ(j=1:20)gj*⟨a′*σ12j⟩\"\n",
       "∂ₜ(⟨a⟩) = (0 - 1im)*var\"Σ(j=1:20)gj*⟨σ12j⟩\" + (0 + 1im)*Δ*⟨a⟩\n",
       "∂ₜ(⟨a′*σ22k⟩) = (0 + 1im)*var\"Σ(j=1:20)(j≠k)gj*⟨σ21j*σ22k⟩\" + (0 + 1im)*gk*(⟨σ12k⟩*⟨a′*a′⟩ + 2⟨a′⟩*⟨a′*σ12k⟩ - 2(⟨a′⟩^2)*⟨σ12k⟩) + (0 - 1im)*gk*(⟨a⟩*⟨a′*σ21k⟩ + ⟨a′⟩*⟨a*σ21k⟩ + ⟨σ21k⟩*⟨a′*a⟩ - 2⟨a′⟩*⟨a⟩*⟨σ21k⟩) + (0 - 1im)*Δ*⟨a′*σ22k⟩ - 0.5⟨a′*σ22k⟩\n",
       "∂ₜ(⟨σ12k⟩) = (0 - 1im)*gk*⟨a⟩ + (0 + 2im)*gk*⟨a*σ22k⟩ - 0.5⟨σ12k⟩\n",
       "∂ₜ(⟨a′*a′⟩) = (0 + 2im)*var\"Σ(j=1:20)gj*⟨a′*σ21j⟩\" + (0 - 2im)*Δ*⟨a′*a′⟩\n",
       "∂ₜ(⟨a′*σ21k⟩) = (0 + 1im)*var\"Σ(j=1:20)(j≠k)gj*⟨σ21j*σ21k⟩\" + (0 - 2im)*gk*(⟨σ22k⟩*⟨a′*a′⟩ + 2⟨a′⟩*⟨a′*σ22k⟩ - 2(⟨a′⟩^2)*⟨σ22k⟩) + (0 + 1im)*gk*⟨a′*a′⟩ + (0 - 1im)*Δ*⟨a′*σ21k⟩ - 0.5⟨a′*σ21k⟩\n"
      ]
     },
     "execution_count": 26,
     "metadata": {},
     "output_type": "execute_result"
    }
   ],
   "source": [
    "#complete equations in second order\n",
    "eqs_com = complete(de;order=2)"
   ]
  },
  {
   "cell_type": "code",
   "execution_count": 27,
   "metadata": {},
   "outputs": [
    {
     "data": {
      "text/latex": [
       "${\\Gamma}ij$"
      ],
      "text/plain": [
       "Γij"
      ]
     },
     "execution_count": 27,
     "metadata": {},
     "output_type": "execute_result"
    }
   ],
   "source": [
    "#Double Indexed Sums\n",
    "i_ind = Index(h,:i,N)\n",
    "σ12_i = IndexedOperator(σ(1,2),i_ind)\n",
    "ops = [σ22_k]\n",
    "J = [σ12_i,σ12_j]\n",
    "Jdagger = adjoint.(J)\n",
    "\n",
    "#define double indexed Variable\n",
    "rates_ind = DoubleIndexedVariable(:Γ,i_ind,j_ind)"
   ]
  },
  {
   "cell_type": "code",
   "execution_count": 31,
   "metadata": {},
   "outputs": [
    {
     "data": {
      "text/plain": [
       "(Σ(i=1:20)(i≠k,j)(σ12i*σ21k*σ21j)+(σ21k*σ21j*σ12k)+(σ21k*σ22j))"
      ]
     },
     "execution_count": 31,
     "metadata": {},
     "output_type": "execute_result"
    }
   ],
   "source": [
    "IndexedSingleSum(σ21_k*σ21_j*σ12_i,i_ind)"
   ]
  },
  {
   "cell_type": "code",
   "execution_count": null,
   "metadata": {},
   "outputs": [
    {
     "data": {
      "text/plain": [
       "Σ(j=1:20)gj*(a′*σ12j)"
      ]
     },
     "execution_count": 13,
     "metadata": {},
     "output_type": "execute_result"
    }
   ],
   "source": [
    "sum1 = IndexedSingleSum(g_j*σ12_j*a',j_ind)"
   ]
  },
  {
   "cell_type": "code",
   "execution_count": null,
   "metadata": {},
   "outputs": [
    {
     "data": {
      "text/plain": [
       "(Σ(k=1:20)gk*(a′)+Σ(k=1:20)-gk*(a′*σ22k)+Σ(k=1:20)Σ(j=1:20)(j≠k)gj*(a′*σ12j*σ21k))"
      ]
     },
     "execution_count": 14,
     "metadata": {},
     "output_type": "execute_result"
    }
   ],
   "source": [
    "IndexedDoubleSum(sum1*σ21_k, k_ind, Index[])"
   ]
  },
  {
   "cell_type": "code",
   "execution_count": null,
   "metadata": {},
   "outputs": [
    {
     "ename": "LoadError",
     "evalue": "BoundsError: attempt to access 1-element Vector{Any} at index [3]",
     "output_type": "error",
     "traceback": [
      "BoundsError: attempt to access 1-element Vector{Any} at index [3]",
      "",
      "Stacktrace:",
      " [1] getindex",
      "   @ .\\array.jl:861 [inlined]",
      " [2] orderByIndex(vec::Vector{Any}, indices::Vector{Index})",
      "   @ Main c:\\Google Drive\\Uni\\MSC\\Arbeit\\Indexing_Backup\\current\\QuantumCumulants.jl\\src\\indexing.jl:714",
      " [3] IndexedSingleSum(term::QMul{Nothing}, sumIndex::Index, nonEqualIndices::Vector{Index})",
      "   @ Main c:\\Google Drive\\Uni\\MSC\\Arbeit\\Indexing_Backup\\current\\QuantumCumulants.jl\\src\\indexing.jl:117",
      " [4] IndexedSingleSum(ops::QAdd, ind::Index, NEI::Vector{Index}; simplify::Bool)",
      "   @ Main c:\\Google Drive\\Uni\\MSC\\Arbeit\\Indexing_Backup\\current\\QuantumCumulants.jl\\src\\indexing.jl:188",
      " [5] IndexedSingleSum(ops::QAdd, ind::Index, NEI::Vector{Index})",
      "   @ Main c:\\Google Drive\\Uni\\MSC\\Arbeit\\Indexing_Backup\\current\\QuantumCumulants.jl\\src\\indexing.jl:184",
      " [6] indexed_master_lindblad(a_::IndexedOperator, J::Vector{IndexedOperator}, Jdagger::Vector{IndexedOperator}, rates::Sym{Parameter, DoubleIndexedVariable})",
      "   @ Main c:\\Google Drive\\Uni\\MSC\\Arbeit\\Indexing_Backup\\current\\QuantumCumulants.jl\\src\\indexedMeanfield.jl:70",
      " [7] top-level scope",
      "   @ In[15]:3",
      " [8] eval",
      "   @ .\\boot.jl:373 [inlined]",
      " [9] include_string(mapexpr::typeof(REPL.softscope), mod::Module, code::String, filename::String)",
      "   @ Base .\\loading.jl:1196"
     ]
    }
   ],
   "source": [
    "#example: calculate diffusal terms in meanfield\n",
    "#case when a Matrix of rates is given assosiated with the σᵢ and σⱼ\n",
    "simplify(indexed_master_lindblad(ops[1],J,Jdagger,rates_ind))"
   ]
  }
 ],
 "metadata": {
  "kernelspec": {
   "display_name": "Julia 1.7.2",
   "language": "julia",
   "name": "julia-1.7"
  },
  "language_info": {
   "file_extension": ".jl",
   "mimetype": "application/julia",
   "name": "julia",
   "version": "1.7.2"
  },
  "orig_nbformat": 4
 },
 "nbformat": 4,
 "nbformat_minor": 2
}
