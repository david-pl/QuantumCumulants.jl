{
 "cells": [
  {
   "cell_type": "code",
   "execution_count": 2,
   "metadata": {},
   "outputs": [],
   "source": [
    "using QuantumOptics\n",
    "using OrdinaryDiffEq\n",
    "using ModelingToolkit\n",
    "using LinearAlgebra\n",
    "using Symbolics\n",
    "using SymbolicUtils\n",
    "using DifferentialEquations"
   ]
  },
  {
   "cell_type": "code",
   "execution_count": 3,
   "metadata": {},
   "outputs": [
    {
     "name": "stderr",
     "output_type": "stream",
     "text": [
      "WARNING: redefinition of constant transition_idx_script. This may fail, cause incorrect answers, or produce other errors.\n",
      "WARNING: replacing module QuantumCumulants.\n",
      "WARNING: redefinition of constant transition_idx_script. This may fail, cause incorrect answers, or produce other errors.\n",
      "WARNING: redefinition of constant transition_idx_script. This may fail, cause incorrect answers, or produce other errors.\n",
      "WARNING: redefinition of constant transition_idx_script. This may fail, cause incorrect answers, or produce other errors.\n",
      "WARNING: replacing module QuantumCumulants.\n",
      "WARNING: replacing module QuantumCumulants.\n",
      "WARNING: replacing module QuantumCumulants.\n"
     ]
    },
    {
     "data": {
      "text/plain": [
       "isNotIn (generic function with 1 method)"
      ]
     },
     "execution_count": 3,
     "metadata": {},
     "output_type": "execute_result"
    }
   ],
   "source": [
    "include(\"../src/indexing.jl\")\n",
    "include(\"../src/doubleSums.jl\")\n",
    "include(\"../src/averageSums.jl\")\n",
    "include(\"../src/indexedMeanfield.jl\")"
   ]
  },
  {
   "cell_type": "code",
   "execution_count": 4,
   "metadata": {},
   "outputs": [],
   "source": [
    "@syms t::Real #time parameter\n",
    "@register Ω(t) #Symbolic Time function for the pulse\n",
    "\n",
    "N = 3\n",
    "ha = NLevelSpace(:a,2)\n",
    "hf= FockSpace(:field) #HilbertSpace of the Field\n",
    "h = tensor(hf,ha)\n",
    "\n",
    "a = Destroy(h,:a)\n",
    "\n",
    "σ(i,j) = Transition(h,:σ,i,j)\n",
    "\n",
    "j_ind = Index(h,:j,N)\n",
    "k_ind = Index(h,:k,N)\n",
    "l_ind = Index(h,:l,N)\n",
    "q_ind = Index(h,:q,N)\n",
    "\n",
    "@cnumbers Δ\n",
    "\n",
    "g_j = IndexedVariable(:g,j_ind)\n",
    "g_k = IndexedVariable(:g,k_ind)\n",
    "\n",
    "#define some Indexed Operators\n",
    "#need only to define ops in Hamiltonian and such\n",
    "#if any other operator gets evaluated, it will automaticly \"upgrade\" it to an indexed operator\n",
    "#   with index corresponding to the index, that was used for evaluation\n",
    "\n",
    "σ12_j = IndexedOperator(σ(1,2),j_ind)\n",
    "σ21_j = IndexedOperator(σ(2,1),j_ind)\n",
    "\n",
    "σ12_k = IndexedOperator(σ(1,2),k_ind)\n",
    "σ21_k = IndexedOperator(σ(2,1),k_ind)\n",
    "σ22_k = IndexedOperator(σ(2,2),k_ind)\n",
    "\n",
    "σ12_l = IndexedOperator(σ(1,2),l_ind)\n",
    "\n",
    "#Define Sums\n",
    "sum1 = IndexedSingleSum(g_j*σ12_j*a',j_ind)\n",
    "sum2 = IndexedSingleSum(g_j*σ21_j*a,j_ind)\n",
    "\n",
    "#can also be done in one step as:\n",
    "sum_both = IndexedSingleSum((g_j*σ12_j*a' + g_j*σ21_j*a),j_ind)\n",
    "\n",
    "#Hamiltonian:\n",
    "H = -Δ*a'*a + sum_both\n"
   ]
  },
  {
   "cell_type": "code",
   "execution_count": null,
   "metadata": {},
   "outputs": [],
   "source": [
    "#Function for the pulse-shape\n",
    "function Ω(t)\n",
    "    return Amp*(1.0/4.0)*(sign(t-t0) + 1)*(-(sign(t-(t0+duration)) - 1))\n",
    "end"
   ]
  },
  {
   "cell_type": "code",
   "execution_count": null,
   "metadata": {},
   "outputs": [
    {
     "data": {
      "text/plain": [
       "∂ₜ(⟨σ22k⟩) = (0 + 1im)*gk*⟨a′*σ12k⟩ + (0 - 1im)*gk*⟨a*σ21k⟩ - ⟨σ22k⟩\n"
      ]
     },
     "execution_count": 4,
     "metadata": {},
     "output_type": "execute_result"
    }
   ],
   "source": [
    "ops = [σ22_k]\n",
    "J = [σ12_k]\n",
    "rates = 1.0\n",
    "\n",
    "de = meanfield(ops,H,J;rates=rates,order=2)"
   ]
  },
  {
   "cell_type": "code",
   "execution_count": null,
   "metadata": {},
   "outputs": [
    {
     "data": {
      "text/plain": [
       "1"
      ]
     },
     "execution_count": 5,
     "metadata": {},
     "output_type": "execute_result"
    }
   ],
   "source": [
    "completed = indexedComplete(de) #complete the meanfield-Equations\n",
    "evaluated_ = evaluateMeanfieldEquations(completed) #insert all the indices\n",
    "\n",
    "valMap1 = createValueMap(g_j,0.05) #Mapping for the used parameters -> in this case just gⱼ, use some basic values\n",
    "evaluated = insertValuesIntoMeanfieldEquation(evaluated_,valMap) #insert the values for the parameters in the equation\n",
    "\n",
    "#also possible\n",
    "#valMap2 = createValueMap(g_j,[1.0,2.0,3.0])\n",
    "#evaluated2 = insertValuesIntoMeanfieldEquation(evaluated_,valMap2)\n",
    "\n",
    "# DONE!\n",
    "# now the equations inside \"evaluated\" are the same as done without indexing\n",
    "1"
   ]
  },
  {
   "cell_type": "code",
   "execution_count": null,
   "metadata": {},
   "outputs": [
    {
     "data": {
      "text/plain": [
       "(Σ(j=1:3)gj*(a′*σ12j)+Σ(j=1:3)gj*(a*σ21j)+-Δ*(a′*a))"
      ]
     },
     "execution_count": 8,
     "metadata": {},
     "output_type": "execute_result"
    }
   ],
   "source": [
    "evaluated2.hamiltonian"
   ]
  },
  {
   "cell_type": "code",
   "execution_count": null,
   "metadata": {},
   "outputs": [
    {
     "ename": "LoadError",
     "evalue": "UndefVarError: evals_ not defined",
     "output_type": "error",
     "traceback": [
      "UndefVarError: evals_ not defined",
      "",
      "Stacktrace:",
      " [1] top-level scope",
      "   @ In[9]:2",
      " [2] eval",
      "   @ .\\boot.jl:373 [inlined]",
      " [3] include_string(mapexpr::typeof(REPL.softscope), mod::Module, code::String, filename::String)",
      "   @ Base .\\loading.jl:1196"
     ]
    }
   ],
   "source": [
    "#Define ODE Problem and solve it\n",
    "@named sys2 = ODESystem(evals_)\n",
    "\n",
    "Tmax = 5.0\n",
    "u0 = zeros(ComplexF64,length(evals_))\n",
    "\n",
    "ps = [Δ]\n",
    "p = ps .=> [0.0]\n",
    "prob = ODEProblem(sys2,u0,(0.0,Tmax),p)\n",
    "\n",
    "sol = solve(prob)"
   ]
  },
  {
   "cell_type": "code",
   "execution_count": null,
   "metadata": {},
   "outputs": [],
   "source": [
    "#plot the result\n",
    "using Plots\n",
    "\n"
   ]
  },
  {
   "cell_type": "code",
   "execution_count": null,
   "metadata": {},
   "outputs": [
    {
     "data": {
      "text/latex": [
       "$g1 a^\\dagger {{\\sigma}1}^{{12}} + g1 a {{\\sigma}1}^{{21}} + g2 a^\\dagger {{\\sigma}2}^{{12}} + g2 a {{\\sigma}2}^{{21}} + g3 a^\\dagger {{\\sigma}3}^{{12}} + g3 a {{\\sigma}3}^{{21}} -1 \\Delta a^\\dagger a$"
      ],
      "text/plain": [
       "(g1*(a′*σ112)+g1*(a*σ121)+g2*(a′*σ212)+g2*(a*σ221)+g3*(a′*σ312)+g3*(a*σ321)+-Δ*(a′*a))"
      ]
     },
     "execution_count": 20,
     "metadata": {},
     "output_type": "execute_result"
    }
   ],
   "source": [
    "#for comparison, done again without indexing\n",
    "\n",
    "N = 3\n",
    "ha2 = [NLevelSpace(:a,2) for i = 1:N]\n",
    "hf2 = FockSpace(:field)\n",
    "h2 = tensor(hf2,ha2...)\n",
    "\n",
    "a2 = Destroy(h2,:a)\n",
    "σ2(i,j,k) = Transition(h2,Symbol(:σ,k),i,j,k+1)\n",
    "\n",
    "@cnumbers g1 g2 g3\n",
    "\n",
    "g = [g1,g2,g3]\n",
    "k = 2\n",
    "\n",
    "H2 = -Δ*a2'*a2 + sum(g[i]*(a2'*σ2(1,2,i) + a2*σ2(2,1,i)) for i = 1:N)\n"
   ]
  },
  {
   "cell_type": "code",
   "execution_count": null,
   "metadata": {},
   "outputs": [
    {
     "data": {
      "text/latex": [
       "$g2 \\langle a^\\dagger  {{\\sigma}2}^{{12}}\\rangle  -1 g2 \\langle a  {{\\sigma}2}^{{21}}\\rangle $"
      ],
      "text/plain": [
       "g2*⟨a′*σ212⟩ - g2*⟨a*σ221⟩"
      ]
     },
     "execution_count": 39,
     "metadata": {},
     "output_type": "execute_result"
    }
   ],
   "source": [
    "average(commutator(H2,σ2(2,2,k)))"
   ]
  },
  {
   "cell_type": "code",
   "execution_count": null,
   "metadata": {},
   "outputs": [
    {
     "data": {
      "text/latex": [
       "\\begin{align}\n",
       "\\frac{d}{dt} \\langle {{\\sigma}2}^{{22}}\\rangle  =& -1.0 \\langle {{\\sigma}2}^{{22}}\\rangle  + 1 i g2 \\langle a^\\dagger  {{\\sigma}2}^{{12}}\\rangle  -1 i g2 \\langle a  {{\\sigma}2}^{{21}}\\rangle \n",
       "\\end{align}\n"
      ],
      "text/plain": [
       "∂ₜ(⟨σ222⟩) = (0 + 1im)*g2*⟨a′*σ212⟩ + (0 - 1im)*g2*⟨a*σ221⟩ - ⟨σ222⟩\n"
      ]
     },
     "execution_count": 40,
     "metadata": {},
     "output_type": "execute_result"
    }
   ],
   "source": [
    "ops2 = [σ2(2,2,2)]\n",
    "J2 = [σ2(1,2,2)]\n",
    "rates = [1.0]\n",
    "eqs2 = meanfield(ops2,H2,J2;rates=rates,order=2)"
   ]
  },
  {
   "cell_type": "code",
   "execution_count": null,
   "metadata": {},
   "outputs": [
    {
     "data": {
      "text/latex": [
       "\\begin{align}\n",
       "\\frac{d}{dt} \\langle {{\\sigma}2}^{{22}}\\rangle  =& -1.0 \\langle {{\\sigma}2}^{{22}}\\rangle  + 1 i g2 \\langle a^\\dagger  {{\\sigma}2}^{{12}}\\rangle  -1 i g2 \\langle a  {{\\sigma}2}^{{21}}\\rangle  \\\\\n",
       "\\frac{d}{dt} \\langle a^\\dagger  {{\\sigma}2}^{{12}}\\rangle  =& -0.5 \\langle a^\\dagger  {{\\sigma}2}^{{12}}\\rangle  + 2 i g2 \\left( \\langle a\\rangle  \\langle a^\\dagger  {{\\sigma}2}^{{22}}\\rangle  + \\langle {{\\sigma}2}^{{22}}\\rangle  \\langle a^\\dagger  a\\rangle  + \\langle a^\\dagger\\rangle  \\langle a  {{\\sigma}2}^{{22}}\\rangle  -2 \\langle a^\\dagger\\rangle  \\langle a\\rangle  \\langle {{\\sigma}2}^{{22}}\\rangle  \\right) + 1 i g2 \\langle {{\\sigma}2}^{{22}}\\rangle  -1 i g2 \\langle a^\\dagger  a\\rangle  + 1 i g3 \\langle {{\\sigma}2}^{{12}}  {{\\sigma}3}^{{21}}\\rangle  -1 i \\Delta \\langle a^\\dagger  {{\\sigma}2}^{{12}}\\rangle  + 1 i g1 \\langle {{\\sigma}1}^{{21}}  {{\\sigma}2}^{{12}}\\rangle  \\\\\n",
       "\\frac{d}{dt} \\langle a\\rangle  =& 1 i \\Delta \\langle a\\rangle  -1 i g1 \\langle {{\\sigma}1}^{{12}}\\rangle  -1 i g2 \\langle {{\\sigma}2}^{{12}}\\rangle  -1 i g3 \\langle {{\\sigma}3}^{{12}}\\rangle  \\\\\n",
       "\\frac{d}{dt} \\langle a^\\dagger  {{\\sigma}2}^{{22}}\\rangle  =& -1.0 \\langle a^\\dagger  {{\\sigma}2}^{{22}}\\rangle  + 1 i g2 \\left( \\langle {{\\sigma}2}^{{12}}\\rangle  \\langle a^\\dagger  a^\\dagger\\rangle  -2 \\langle a^\\dagger\\rangle ^{2} \\langle {{\\sigma}2}^{{12}}\\rangle  + 2 \\langle a^\\dagger\\rangle  \\langle a^\\dagger  {{\\sigma}2}^{{12}}\\rangle  \\right) + 1 i g1 \\langle {{\\sigma}1}^{{21}}  {{\\sigma}2}^{{22}}\\rangle  -1 i g2 \\left( \\langle {{\\sigma}2}^{{21}}\\rangle  \\langle a^\\dagger  a\\rangle  + \\langle a\\rangle  \\langle a^\\dagger  {{\\sigma}2}^{{21}}\\rangle  + \\langle a^\\dagger\\rangle  \\langle a  {{\\sigma}2}^{{21}}\\rangle  -2 \\langle a^\\dagger\\rangle  \\langle a\\rangle  \\langle {{\\sigma}2}^{{21}}\\rangle  \\right) + 1 i g3 \\langle {{\\sigma}2}^{{22}}  {{\\sigma}3}^{{21}}\\rangle  -1 i \\Delta \\langle a^\\dagger  {{\\sigma}2}^{{22}}\\rangle  \\\\\n",
       "\\frac{d}{dt} \\langle a^\\dagger  a\\rangle  =& -1 i g2 \\langle a^\\dagger  {{\\sigma}2}^{{12}}\\rangle  -1 i g1 \\langle a^\\dagger  {{\\sigma}1}^{{12}}\\rangle  + 1 i g2 \\langle a  {{\\sigma}2}^{{21}}\\rangle  -1 i g3 \\langle a^\\dagger  {{\\sigma}3}^{{12}}\\rangle  + 1 i g1 \\langle a  {{\\sigma}1}^{{21}}\\rangle  + 1 i g3 \\langle a  {{\\sigma}3}^{{21}}\\rangle  \\\\\n",
       "\\frac{d}{dt} \\langle {{\\sigma}2}^{{12}}  {{\\sigma}3}^{{21}}\\rangle  =& -0.5 \\langle {{\\sigma}2}^{{12}}  {{\\sigma}3}^{{21}}\\rangle  -1 i g2 \\langle a  {{\\sigma}3}^{{21}}\\rangle  + 2 i g2 \\left( \\langle {{\\sigma}2}^{{22}}\\rangle  \\langle a  {{\\sigma}3}^{{21}}\\rangle  + \\langle a\\rangle  \\langle {{\\sigma}2}^{{22}}  {{\\sigma}3}^{{21}}\\rangle  + \\langle {{\\sigma}3}^{{21}}\\rangle  \\langle a  {{\\sigma}2}^{{22}}\\rangle  -2 \\langle a\\rangle  \\langle {{\\sigma}2}^{{22}}\\rangle  \\langle {{\\sigma}3}^{{21}}\\rangle  \\right) + 1 i g3 \\langle a^\\dagger  {{\\sigma}2}^{{12}}\\rangle  -2 i g3 \\left( \\langle {{\\sigma}2}^{{12}}\\rangle  \\langle a^\\dagger  {{\\sigma}3}^{{22}}\\rangle  + \\langle {{\\sigma}3}^{{22}}\\rangle  \\langle a^\\dagger  {{\\sigma}2}^{{12}}\\rangle  + \\langle a^\\dagger\\rangle  \\langle {{\\sigma}2}^{{12}}  {{\\sigma}3}^{{22}}\\rangle  -2 \\langle a^\\dagger\\rangle  \\langle {{\\sigma}2}^{{12}}\\rangle  \\langle {{\\sigma}3}^{{22}}\\rangle  \\right) \\\\\n",
       "\\frac{d}{dt} \\langle {{\\sigma}1}^{{21}}  {{\\sigma}2}^{{12}}\\rangle  =& -0.5 \\langle {{\\sigma}1}^{{21}}  {{\\sigma}2}^{{12}}\\rangle  -2 i g1 \\left( \\langle {{\\sigma}1}^{{22}}\\rangle  \\langle a^\\dagger  {{\\sigma}2}^{{12}}\\rangle  + \\langle {{\\sigma}2}^{{12}}\\rangle  \\langle a^\\dagger  {{\\sigma}1}^{{22}}\\rangle  + \\langle a^\\dagger\\rangle  \\langle {{\\sigma}1}^{{22}}  {{\\sigma}2}^{{12}}\\rangle  -2 \\langle a^\\dagger\\rangle  \\langle {{\\sigma}2}^{{12}}\\rangle  \\langle {{\\sigma}1}^{{22}}\\rangle  \\right) + 2 i g2 \\left( \\langle {{\\sigma}1}^{{21}}\\rangle  \\langle a  {{\\sigma}2}^{{22}}\\rangle  + \\langle {{\\sigma}2}^{{22}}\\rangle  \\langle a  {{\\sigma}1}^{{21}}\\rangle  + \\langle a\\rangle  \\langle {{\\sigma}1}^{{21}}  {{\\sigma}2}^{{22}}\\rangle  -2 \\langle a\\rangle  \\langle {{\\sigma}2}^{{22}}\\rangle  \\langle {{\\sigma}1}^{{21}}\\rangle  \\right) + 1 i g1 \\langle a^\\dagger  {{\\sigma}2}^{{12}}\\rangle  -1 i g2 \\langle a  {{\\sigma}1}^{{21}}\\rangle  \\\\\n",
       "\\frac{d}{dt} \\langle {{\\sigma}1}^{{12}}\\rangle  =& -1 i g1 \\langle a\\rangle  + 2 i g1 \\langle a  {{\\sigma}1}^{{22}}\\rangle  \\\\\n",
       "\\frac{d}{dt} \\langle {{\\sigma}2}^{{12}}\\rangle  =& -0.5 \\langle {{\\sigma}2}^{{12}}\\rangle  -1 i g2 \\langle a\\rangle  + 2 i g2 \\langle a  {{\\sigma}2}^{{22}}\\rangle  \\\\\n",
       "\\frac{d}{dt} \\langle {{\\sigma}3}^{{12}}\\rangle  =& -1 i g3 \\langle a\\rangle  + 2 i g3 \\langle a  {{\\sigma}3}^{{22}}\\rangle  \\\\\n",
       "\\frac{d}{dt} \\langle a^\\dagger  a^\\dagger\\rangle  =& 2 i g2 \\langle a^\\dagger  {{\\sigma}2}^{{21}}\\rangle  -2 i \\Delta \\langle a^\\dagger  a^\\dagger\\rangle  + 2 i g1 \\langle a^\\dagger  {{\\sigma}1}^{{21}}\\rangle  + 2 i g3 \\langle a^\\dagger  {{\\sigma}3}^{{21}}\\rangle  \\\\\n",
       "\\frac{d}{dt} \\langle {{\\sigma}1}^{{21}}  {{\\sigma}2}^{{22}}\\rangle  =& -1.0 \\langle {{\\sigma}1}^{{21}}  {{\\sigma}2}^{{22}}\\rangle  + 1 i g2 \\left( \\langle {{\\sigma}2}^{{12}}\\rangle  \\langle a^\\dagger  {{\\sigma}1}^{{21}}\\rangle  + \\langle a^\\dagger\\rangle  \\langle {{\\sigma}1}^{{21}}  {{\\sigma}2}^{{12}}\\rangle  + \\langle {{\\sigma}1}^{{21}}\\rangle  \\langle a^\\dagger  {{\\sigma}2}^{{12}}\\rangle  -2 \\langle a^\\dagger\\rangle  \\langle {{\\sigma}2}^{{12}}\\rangle  \\langle {{\\sigma}1}^{{21}}\\rangle  \\right) + 1 i g1 \\langle a^\\dagger  {{\\sigma}2}^{{22}}\\rangle  -2 i g1 \\left( \\langle a^\\dagger\\rangle  \\langle {{\\sigma}1}^{{22}}  {{\\sigma}2}^{{22}}\\rangle  + \\langle {{\\sigma}2}^{{22}}\\rangle  \\langle a^\\dagger  {{\\sigma}1}^{{22}}\\rangle  + \\langle {{\\sigma}1}^{{22}}\\rangle  \\langle a^\\dagger  {{\\sigma}2}^{{22}}\\rangle  -2 \\langle a^\\dagger\\rangle  \\langle {{\\sigma}1}^{{22}}\\rangle  \\langle {{\\sigma}2}^{{22}}\\rangle  \\right) -1 i g2 \\left( \\langle {{\\sigma}1}^{{21}}\\rangle  \\langle a  {{\\sigma}2}^{{21}}\\rangle  + \\langle a\\rangle  \\langle {{\\sigma}1}^{{21}}  {{\\sigma}2}^{{21}}\\rangle  + \\langle {{\\sigma}2}^{{21}}\\rangle  \\langle a  {{\\sigma}1}^{{21}}\\rangle  -2 \\langle a\\rangle  \\langle {{\\sigma}2}^{{21}}\\rangle  \\langle {{\\sigma}1}^{{21}}\\rangle  \\right) \\\\\n",
       "\\frac{d}{dt} \\langle a^\\dagger  {{\\sigma}2}^{{21}}\\rangle  =& -0.5 \\langle a^\\dagger  {{\\sigma}2}^{{21}}\\rangle  + 1 i g1 \\langle {{\\sigma}1}^{{21}}  {{\\sigma}2}^{{21}}\\rangle  + 1 i g2 \\langle a^\\dagger  a^\\dagger\\rangle  + 1 i g3 \\langle {{\\sigma}2}^{{21}}  {{\\sigma}3}^{{21}}\\rangle  -1 i \\Delta \\langle a^\\dagger  {{\\sigma}2}^{{21}}\\rangle  -2 i g2 \\left( \\langle {{\\sigma}2}^{{22}}\\rangle  \\langle a^\\dagger  a^\\dagger\\rangle  -2 \\langle a^\\dagger\\rangle ^{2} \\langle {{\\sigma}2}^{{22}}\\rangle  + 2 \\langle a^\\dagger\\rangle  \\langle a^\\dagger  {{\\sigma}2}^{{22}}\\rangle  \\right) \\\\\n",
       "\\frac{d}{dt} \\langle {{\\sigma}2}^{{22}}  {{\\sigma}3}^{{21}}\\rangle  =& -1.0 \\langle {{\\sigma}2}^{{22}}  {{\\sigma}3}^{{21}}\\rangle  -2 i g3 \\left( \\langle {{\\sigma}3}^{{22}}\\rangle  \\langle a^\\dagger  {{\\sigma}2}^{{22}}\\rangle  + \\langle a^\\dagger\\rangle  \\langle {{\\sigma}2}^{{22}}  {{\\sigma}3}^{{22}}\\rangle  + \\langle {{\\sigma}2}^{{22}}\\rangle  \\langle a^\\dagger  {{\\sigma}3}^{{22}}\\rangle  -2 \\langle a^\\dagger\\rangle  \\langle {{\\sigma}2}^{{22}}\\rangle  \\langle {{\\sigma}3}^{{22}}\\rangle  \\right) -1 i g2 \\left( \\langle {{\\sigma}3}^{{21}}\\rangle  \\langle a  {{\\sigma}2}^{{21}}\\rangle  + \\langle {{\\sigma}2}^{{21}}\\rangle  \\langle a  {{\\sigma}3}^{{21}}\\rangle  + \\langle a\\rangle  \\langle {{\\sigma}2}^{{21}}  {{\\sigma}3}^{{21}}\\rangle  -2 \\langle a\\rangle  \\langle {{\\sigma}2}^{{21}}\\rangle  \\langle {{\\sigma}3}^{{21}}\\rangle  \\right) + 1 i g2 \\left( \\langle a^\\dagger\\rangle  \\langle {{\\sigma}2}^{{12}}  {{\\sigma}3}^{{21}}\\rangle  + \\langle {{\\sigma}3}^{{21}}\\rangle  \\langle a^\\dagger  {{\\sigma}2}^{{12}}\\rangle  + \\langle {{\\sigma}2}^{{12}}\\rangle  \\langle a^\\dagger  {{\\sigma}3}^{{21}}\\rangle  -2 \\langle a^\\dagger\\rangle  \\langle {{\\sigma}2}^{{12}}\\rangle  \\langle {{\\sigma}3}^{{21}}\\rangle  \\right) + 1 i g3 \\langle a^\\dagger  {{\\sigma}2}^{{22}}\\rangle  \\\\\n",
       "\\frac{d}{dt} \\langle a^\\dagger  {{\\sigma}1}^{{12}}\\rangle  =& 2 i g1 \\left( \\langle a^\\dagger\\rangle  \\langle a  {{\\sigma}1}^{{22}}\\rangle  + \\langle a\\rangle  \\langle a^\\dagger  {{\\sigma}1}^{{22}}\\rangle  + \\langle {{\\sigma}1}^{{22}}\\rangle  \\langle a^\\dagger  a\\rangle  -2 \\langle a^\\dagger\\rangle  \\langle a\\rangle  \\langle {{\\sigma}1}^{{22}}\\rangle  \\right) + 1 i g1 \\langle {{\\sigma}1}^{{22}}\\rangle  -1 i g1 \\langle a^\\dagger  a\\rangle  -1 i \\Delta \\langle a^\\dagger  {{\\sigma}1}^{{12}}\\rangle  + 1 i g2 \\langle {{\\sigma}1}^{{12}}  {{\\sigma}2}^{{21}}\\rangle  + 1 i g3 \\langle {{\\sigma}1}^{{12}}  {{\\sigma}3}^{{21}}\\rangle  \\\\\n",
       "\\frac{d}{dt} \\langle a^\\dagger  {{\\sigma}3}^{{12}}\\rangle  =& 1 i g3 \\langle {{\\sigma}3}^{{22}}\\rangle  -1 i g3 \\langle a^\\dagger  a\\rangle  -1 i \\Delta \\langle a^\\dagger  {{\\sigma}3}^{{12}}\\rangle  + 1 i g2 \\langle {{\\sigma}2}^{{21}}  {{\\sigma}3}^{{12}}\\rangle  + 2 i g3 \\left( \\langle a^\\dagger\\rangle  \\langle a  {{\\sigma}3}^{{22}}\\rangle  + \\langle a\\rangle  \\langle a^\\dagger  {{\\sigma}3}^{{22}}\\rangle  + \\langle {{\\sigma}3}^{{22}}\\rangle  \\langle a^\\dagger  a\\rangle  -2 \\langle a^\\dagger\\rangle  \\langle a\\rangle  \\langle {{\\sigma}3}^{{22}}\\rangle  \\right) + 1 i g1 \\langle {{\\sigma}1}^{{21}}  {{\\sigma}3}^{{12}}\\rangle  \\\\\n",
       "\\frac{d}{dt} \\langle a^\\dagger  {{\\sigma}3}^{{22}}\\rangle  =& 1 i g3 \\left( \\langle {{\\sigma}3}^{{12}}\\rangle  \\langle a^\\dagger  a^\\dagger\\rangle  -2 \\langle a^\\dagger\\rangle ^{2} \\langle {{\\sigma}3}^{{12}}\\rangle  + 2 \\langle a^\\dagger\\rangle  \\langle a^\\dagger  {{\\sigma}3}^{{12}}\\rangle  \\right) + 1 i g2 \\langle {{\\sigma}2}^{{21}}  {{\\sigma}3}^{{22}}\\rangle  + 1 i g1 \\langle {{\\sigma}1}^{{21}}  {{\\sigma}3}^{{22}}\\rangle  -1 i g3 \\left( \\langle {{\\sigma}3}^{{21}}\\rangle  \\langle a^\\dagger  a\\rangle  + \\langle a^\\dagger\\rangle  \\langle a  {{\\sigma}3}^{{21}}\\rangle  + \\langle a\\rangle  \\langle a^\\dagger  {{\\sigma}3}^{{21}}\\rangle  -2 \\langle a^\\dagger\\rangle  \\langle a\\rangle  \\langle {{\\sigma}3}^{{21}}\\rangle  \\right) -1 i \\Delta \\langle a^\\dagger  {{\\sigma}3}^{{22}}\\rangle  \\\\\n",
       "\\frac{d}{dt} \\langle {{\\sigma}3}^{{22}}\\rangle  =& 1 i g3 \\langle a^\\dagger  {{\\sigma}3}^{{12}}\\rangle  -1 i g3 \\langle a  {{\\sigma}3}^{{21}}\\rangle  \\\\\n",
       "\\frac{d}{dt} \\langle {{\\sigma}2}^{{12}}  {{\\sigma}3}^{{22}}\\rangle  =& -0.5 \\langle {{\\sigma}2}^{{12}}  {{\\sigma}3}^{{22}}\\rangle  + 1 i g3 \\left( \\langle {{\\sigma}2}^{{12}}\\rangle  \\langle a^\\dagger  {{\\sigma}3}^{{12}}\\rangle  + \\langle a^\\dagger\\rangle  \\langle {{\\sigma}2}^{{12}}  {{\\sigma}3}^{{12}}\\rangle  + \\langle {{\\sigma}3}^{{12}}\\rangle  \\langle a^\\dagger  {{\\sigma}2}^{{12}}\\rangle  -2 \\langle a^\\dagger\\rangle  \\langle {{\\sigma}3}^{{12}}\\rangle  \\langle {{\\sigma}2}^{{12}}\\rangle  \\right) + 2 i g2 \\left( \\langle a\\rangle  \\langle {{\\sigma}2}^{{22}}  {{\\sigma}3}^{{22}}\\rangle  + \\langle {{\\sigma}3}^{{22}}\\rangle  \\langle a  {{\\sigma}2}^{{22}}\\rangle  + \\langle {{\\sigma}2}^{{22}}\\rangle  \\langle a  {{\\sigma}3}^{{22}}\\rangle  -2 \\langle a\\rangle  \\langle {{\\sigma}2}^{{22}}\\rangle  \\langle {{\\sigma}3}^{{22}}\\rangle  \\right) -1 i g2 \\langle a  {{\\sigma}3}^{{22}}\\rangle  -1 i g3 \\left( \\langle a\\rangle  \\langle {{\\sigma}2}^{{12}}  {{\\sigma}3}^{{21}}\\rangle  + \\langle {{\\sigma}3}^{{21}}\\rangle  \\langle a  {{\\sigma}2}^{{12}}\\rangle  + \\langle {{\\sigma}2}^{{12}}\\rangle  \\langle a  {{\\sigma}3}^{{21}}\\rangle  -2 \\langle a\\rangle  \\langle {{\\sigma}2}^{{12}}\\rangle  \\langle {{\\sigma}3}^{{21}}\\rangle  \\right) \\\\\n",
       "\\frac{d}{dt} \\langle {{\\sigma}1}^{{22}}\\rangle  =& 1 i g1 \\langle a^\\dagger  {{\\sigma}1}^{{12}}\\rangle  -1 i g1 \\langle a  {{\\sigma}1}^{{21}}\\rangle  \\\\\n",
       "\\frac{d}{dt} \\langle a^\\dagger  {{\\sigma}1}^{{22}}\\rangle  =& 1 i g1 \\left( \\langle {{\\sigma}1}^{{12}}\\rangle  \\langle a^\\dagger  a^\\dagger\\rangle  -2 \\langle a^\\dagger\\rangle ^{2} \\langle {{\\sigma}1}^{{12}}\\rangle  + 2 \\langle a^\\dagger\\rangle  \\langle a^\\dagger  {{\\sigma}1}^{{12}}\\rangle  \\right) -1 i g1 \\left( \\langle {{\\sigma}1}^{{21}}\\rangle  \\langle a^\\dagger  a\\rangle  + \\langle a^\\dagger\\rangle  \\langle a  {{\\sigma}1}^{{21}}\\rangle  + \\langle a\\rangle  \\langle a^\\dagger  {{\\sigma}1}^{{21}}\\rangle  -2 \\langle a^\\dagger\\rangle  \\langle a\\rangle  \\langle {{\\sigma}1}^{{21}}\\rangle  \\right) + 1 i g2 \\langle {{\\sigma}1}^{{22}}  {{\\sigma}2}^{{21}}\\rangle  + 1 i g3 \\langle {{\\sigma}1}^{{22}}  {{\\sigma}3}^{{21}}\\rangle  -1 i \\Delta \\langle a^\\dagger  {{\\sigma}1}^{{22}}\\rangle  \\\\\n",
       "\\frac{d}{dt} \\langle {{\\sigma}1}^{{22}}  {{\\sigma}2}^{{12}}\\rangle  =& -0.5 \\langle {{\\sigma}1}^{{22}}  {{\\sigma}2}^{{12}}\\rangle  + 2 i g2 \\left( \\langle {{\\sigma}1}^{{22}}\\rangle  \\langle a  {{\\sigma}2}^{{22}}\\rangle  + \\langle {{\\sigma}2}^{{22}}\\rangle  \\langle a  {{\\sigma}1}^{{22}}\\rangle  + \\langle a\\rangle  \\langle {{\\sigma}1}^{{22}}  {{\\sigma}2}^{{22}}\\rangle  -2 \\langle a\\rangle  \\langle {{\\sigma}1}^{{22}}\\rangle  \\langle {{\\sigma}2}^{{22}}\\rangle  \\right) -1 i g1 \\left( \\langle {{\\sigma}1}^{{21}}\\rangle  \\langle a  {{\\sigma}2}^{{12}}\\rangle  + \\langle {{\\sigma}2}^{{12}}\\rangle  \\langle a  {{\\sigma}1}^{{21}}\\rangle  + \\langle a\\rangle  \\langle {{\\sigma}1}^{{21}}  {{\\sigma}2}^{{12}}\\rangle  -2 \\langle a\\rangle  \\langle {{\\sigma}2}^{{12}}\\rangle  \\langle {{\\sigma}1}^{{21}}\\rangle  \\right) + 1 i g1 \\left( \\langle {{\\sigma}1}^{{12}}\\rangle  \\langle a^\\dagger  {{\\sigma}2}^{{12}}\\rangle  + \\langle {{\\sigma}2}^{{12}}\\rangle  \\langle a^\\dagger  {{\\sigma}1}^{{12}}\\rangle  + \\langle a^\\dagger\\rangle  \\langle {{\\sigma}1}^{{12}}  {{\\sigma}2}^{{12}}\\rangle  -2 \\langle a^\\dagger\\rangle  \\langle {{\\sigma}2}^{{12}}\\rangle  \\langle {{\\sigma}1}^{{12}}\\rangle  \\right) -1 i g2 \\langle a  {{\\sigma}1}^{{22}}\\rangle  \\\\\n",
       "\\frac{d}{dt} \\langle a^\\dagger  {{\\sigma}1}^{{21}}\\rangle  =& 1 i g1 \\langle a^\\dagger  a^\\dagger\\rangle  -2 i g1 \\left( \\langle {{\\sigma}1}^{{22}}\\rangle  \\langle a^\\dagger  a^\\dagger\\rangle  -2 \\langle a^\\dagger\\rangle ^{2} \\langle {{\\sigma}1}^{{22}}\\rangle  + 2 \\langle a^\\dagger\\rangle  \\langle a^\\dagger  {{\\sigma}1}^{{22}}\\rangle  \\right) + 1 i g2 \\langle {{\\sigma}1}^{{21}}  {{\\sigma}2}^{{21}}\\rangle  -1 i \\Delta \\langle a^\\dagger  {{\\sigma}1}^{{21}}\\rangle  + 1 i g3 \\langle {{\\sigma}1}^{{21}}  {{\\sigma}3}^{{21}}\\rangle  \\\\\n",
       "\\frac{d}{dt} \\langle a^\\dagger  {{\\sigma}3}^{{21}}\\rangle  =& 1 i g3 \\langle a^\\dagger  a^\\dagger\\rangle  -2 i g3 \\left( \\langle {{\\sigma}3}^{{22}}\\rangle  \\langle a^\\dagger  a^\\dagger\\rangle  -2 \\langle a^\\dagger\\rangle ^{2} \\langle {{\\sigma}3}^{{22}}\\rangle  + 2 \\langle a^\\dagger\\rangle  \\langle a^\\dagger  {{\\sigma}3}^{{22}}\\rangle  \\right) + 1 i g1 \\langle {{\\sigma}1}^{{21}}  {{\\sigma}3}^{{21}}\\rangle  -1 i \\Delta \\langle a^\\dagger  {{\\sigma}3}^{{21}}\\rangle  + 1 i g2 \\langle {{\\sigma}2}^{{21}}  {{\\sigma}3}^{{21}}\\rangle  \\\\\n",
       "\\frac{d}{dt} \\langle {{\\sigma}1}^{{22}}  {{\\sigma}2}^{{22}}\\rangle  =& -1.0 \\langle {{\\sigma}1}^{{22}}  {{\\sigma}2}^{{22}}\\rangle  -1 i g1 \\left( \\langle {{\\sigma}1}^{{21}}\\rangle  \\langle a  {{\\sigma}2}^{{22}}\\rangle  + \\langle {{\\sigma}2}^{{22}}\\rangle  \\langle a  {{\\sigma}1}^{{21}}\\rangle  + \\langle a\\rangle  \\langle {{\\sigma}1}^{{21}}  {{\\sigma}2}^{{22}}\\rangle  -2 \\langle a\\rangle  \\langle {{\\sigma}2}^{{22}}\\rangle  \\langle {{\\sigma}1}^{{21}}\\rangle  \\right) + 1 i g1 \\left( \\langle {{\\sigma}2}^{{22}}\\rangle  \\langle a^\\dagger  {{\\sigma}1}^{{12}}\\rangle  + \\langle {{\\sigma}1}^{{12}}\\rangle  \\langle a^\\dagger  {{\\sigma}2}^{{22}}\\rangle  + \\langle a^\\dagger\\rangle  \\langle {{\\sigma}1}^{{12}}  {{\\sigma}2}^{{22}}\\rangle  -2 \\langle a^\\dagger\\rangle  \\langle {{\\sigma}2}^{{22}}\\rangle  \\langle {{\\sigma}1}^{{12}}\\rangle  \\right) + 1 i g2 \\left( \\langle {{\\sigma}1}^{{22}}\\rangle  \\langle a^\\dagger  {{\\sigma}2}^{{12}}\\rangle  + \\langle {{\\sigma}2}^{{12}}\\rangle  \\langle a^\\dagger  {{\\sigma}1}^{{22}}\\rangle  + \\langle a^\\dagger\\rangle  \\langle {{\\sigma}1}^{{22}}  {{\\sigma}2}^{{12}}\\rangle  -2 \\langle a^\\dagger\\rangle  \\langle {{\\sigma}2}^{{12}}\\rangle  \\langle {{\\sigma}1}^{{22}}\\rangle  \\right) -1 i g2 \\left( \\langle {{\\sigma}2}^{{21}}\\rangle  \\langle a  {{\\sigma}1}^{{22}}\\rangle  + \\langle {{\\sigma}1}^{{22}}\\rangle  \\langle a  {{\\sigma}2}^{{21}}\\rangle  + \\langle a\\rangle  \\langle {{\\sigma}1}^{{22}}  {{\\sigma}2}^{{21}}\\rangle  -2 \\langle a\\rangle  \\langle {{\\sigma}1}^{{22}}\\rangle  \\langle {{\\sigma}2}^{{21}}\\rangle  \\right) \\\\\n",
       "\\frac{d}{dt} \\langle {{\\sigma}1}^{{21}}  {{\\sigma}2}^{{21}}\\rangle  =& -0.5 \\langle {{\\sigma}1}^{{21}}  {{\\sigma}2}^{{21}}\\rangle  + 1 i g1 \\langle a^\\dagger  {{\\sigma}2}^{{21}}\\rangle  + 1 i g2 \\langle a^\\dagger  {{\\sigma}1}^{{21}}\\rangle  -2 i g2 \\left( \\langle {{\\sigma}2}^{{22}}\\rangle  \\langle a^\\dagger  {{\\sigma}1}^{{21}}\\rangle  + \\langle {{\\sigma}1}^{{21}}\\rangle  \\langle a^\\dagger  {{\\sigma}2}^{{22}}\\rangle  + \\langle a^\\dagger\\rangle  \\langle {{\\sigma}1}^{{21}}  {{\\sigma}2}^{{22}}\\rangle  -2 \\langle a^\\dagger\\rangle  \\langle {{\\sigma}2}^{{22}}\\rangle  \\langle {{\\sigma}1}^{{21}}\\rangle  \\right) -2 i g1 \\left( \\langle {{\\sigma}2}^{{21}}\\rangle  \\langle a^\\dagger  {{\\sigma}1}^{{22}}\\rangle  + \\langle {{\\sigma}1}^{{22}}\\rangle  \\langle a^\\dagger  {{\\sigma}2}^{{21}}\\rangle  + \\langle a^\\dagger\\rangle  \\langle {{\\sigma}1}^{{22}}  {{\\sigma}2}^{{21}}\\rangle  -2 \\langle a^\\dagger\\rangle  \\langle {{\\sigma}1}^{{22}}\\rangle  \\langle {{\\sigma}2}^{{21}}\\rangle  \\right) \\\\\n",
       "\\frac{d}{dt} \\langle {{\\sigma}2}^{{21}}  {{\\sigma}3}^{{21}}\\rangle  =& -0.5 \\langle {{\\sigma}2}^{{21}}  {{\\sigma}3}^{{21}}\\rangle  + 1 i g3 \\langle a^\\dagger  {{\\sigma}2}^{{21}}\\rangle  + 1 i g2 \\langle a^\\dagger  {{\\sigma}3}^{{21}}\\rangle  -2 i g2 \\left( \\langle a^\\dagger\\rangle  \\langle {{\\sigma}2}^{{22}}  {{\\sigma}3}^{{21}}\\rangle  + \\langle {{\\sigma}2}^{{22}}\\rangle  \\langle a^\\dagger  {{\\sigma}3}^{{21}}\\rangle  + \\langle {{\\sigma}3}^{{21}}\\rangle  \\langle a^\\dagger  {{\\sigma}2}^{{22}}\\rangle  -2 \\langle a^\\dagger\\rangle  \\langle {{\\sigma}2}^{{22}}\\rangle  \\langle {{\\sigma}3}^{{21}}\\rangle  \\right) -2 i g3 \\left( \\langle {{\\sigma}3}^{{22}}\\rangle  \\langle a^\\dagger  {{\\sigma}2}^{{21}}\\rangle  + \\langle {{\\sigma}2}^{{21}}\\rangle  \\langle a^\\dagger  {{\\sigma}3}^{{22}}\\rangle  + \\langle a^\\dagger\\rangle  \\langle {{\\sigma}2}^{{21}}  {{\\sigma}3}^{{22}}\\rangle  -2 \\langle a^\\dagger\\rangle  \\langle {{\\sigma}2}^{{21}}\\rangle  \\langle {{\\sigma}3}^{{22}}\\rangle  \\right) \\\\\n",
       "\\frac{d}{dt} \\langle {{\\sigma}2}^{{22}}  {{\\sigma}3}^{{22}}\\rangle  =& -1.0 \\langle {{\\sigma}2}^{{22}}  {{\\sigma}3}^{{22}}\\rangle  + 1 i g2 \\left( \\langle {{\\sigma}2}^{{12}}\\rangle  \\langle a^\\dagger  {{\\sigma}3}^{{22}}\\rangle  + \\langle {{\\sigma}3}^{{22}}\\rangle  \\langle a^\\dagger  {{\\sigma}2}^{{12}}\\rangle  + \\langle a^\\dagger\\rangle  \\langle {{\\sigma}2}^{{12}}  {{\\sigma}3}^{{22}}\\rangle  -2 \\langle a^\\dagger\\rangle  \\langle {{\\sigma}2}^{{12}}\\rangle  \\langle {{\\sigma}3}^{{22}}\\rangle  \\right) + 1 i g3 \\left( \\langle a^\\dagger\\rangle  \\langle {{\\sigma}2}^{{22}}  {{\\sigma}3}^{{12}}\\rangle  + \\langle {{\\sigma}3}^{{12}}\\rangle  \\langle a^\\dagger  {{\\sigma}2}^{{22}}\\rangle  + \\langle {{\\sigma}2}^{{22}}\\rangle  \\langle a^\\dagger  {{\\sigma}3}^{{12}}\\rangle  -2 \\langle a^\\dagger\\rangle  \\langle {{\\sigma}3}^{{12}}\\rangle  \\langle {{\\sigma}2}^{{22}}\\rangle  \\right) -1 i g2 \\left( \\langle a\\rangle  \\langle {{\\sigma}2}^{{21}}  {{\\sigma}3}^{{22}}\\rangle  + \\langle {{\\sigma}2}^{{21}}\\rangle  \\langle a  {{\\sigma}3}^{{22}}\\rangle  + \\langle {{\\sigma}3}^{{22}}\\rangle  \\langle a  {{\\sigma}2}^{{21}}\\rangle  -2 \\langle a\\rangle  \\langle {{\\sigma}2}^{{21}}\\rangle  \\langle {{\\sigma}3}^{{22}}\\rangle  \\right) -1 i g3 \\left( \\langle {{\\sigma}2}^{{22}}\\rangle  \\langle a  {{\\sigma}3}^{{21}}\\rangle  + \\langle a\\rangle  \\langle {{\\sigma}2}^{{22}}  {{\\sigma}3}^{{21}}\\rangle  + \\langle {{\\sigma}3}^{{21}}\\rangle  \\langle a  {{\\sigma}2}^{{22}}\\rangle  -2 \\langle a\\rangle  \\langle {{\\sigma}2}^{{22}}\\rangle  \\langle {{\\sigma}3}^{{21}}\\rangle  \\right) \\\\\n",
       "\\frac{d}{dt} \\langle {{\\sigma}1}^{{12}}  {{\\sigma}3}^{{21}}\\rangle  =& 1 i g3 \\langle a^\\dagger  {{\\sigma}1}^{{12}}\\rangle  -1 i g1 \\langle a  {{\\sigma}3}^{{21}}\\rangle  + 2 i g1 \\left( \\langle a\\rangle  \\langle {{\\sigma}1}^{{22}}  {{\\sigma}3}^{{21}}\\rangle  + \\langle {{\\sigma}1}^{{22}}\\rangle  \\langle a  {{\\sigma}3}^{{21}}\\rangle  + \\langle {{\\sigma}3}^{{21}}\\rangle  \\langle a  {{\\sigma}1}^{{22}}\\rangle  -2 \\langle a\\rangle  \\langle {{\\sigma}1}^{{22}}\\rangle  \\langle {{\\sigma}3}^{{21}}\\rangle  \\right) -2 i g3 \\left( \\langle {{\\sigma}1}^{{12}}\\rangle  \\langle a^\\dagger  {{\\sigma}3}^{{22}}\\rangle  + \\langle a^\\dagger\\rangle  \\langle {{\\sigma}1}^{{12}}  {{\\sigma}3}^{{22}}\\rangle  + \\langle {{\\sigma}3}^{{22}}\\rangle  \\langle a^\\dagger  {{\\sigma}1}^{{12}}\\rangle  -2 \\langle a^\\dagger\\rangle  \\langle {{\\sigma}1}^{{12}}\\rangle  \\langle {{\\sigma}3}^{{22}}\\rangle  \\right) \\\\\n",
       "\\frac{d}{dt} \\langle {{\\sigma}1}^{{21}}  {{\\sigma}3}^{{22}}\\rangle  =& -2 i g1 \\left( \\langle a^\\dagger\\rangle  \\langle {{\\sigma}1}^{{22}}  {{\\sigma}3}^{{22}}\\rangle  + \\langle {{\\sigma}3}^{{22}}\\rangle  \\langle a^\\dagger  {{\\sigma}1}^{{22}}\\rangle  + \\langle {{\\sigma}1}^{{22}}\\rangle  \\langle a^\\dagger  {{\\sigma}3}^{{22}}\\rangle  -2 \\langle a^\\dagger\\rangle  \\langle {{\\sigma}1}^{{22}}\\rangle  \\langle {{\\sigma}3}^{{22}}\\rangle  \\right) + 1 i g3 \\left( \\langle {{\\sigma}3}^{{12}}\\rangle  \\langle a^\\dagger  {{\\sigma}1}^{{21}}\\rangle  + \\langle {{\\sigma}1}^{{21}}\\rangle  \\langle a^\\dagger  {{\\sigma}3}^{{12}}\\rangle  + \\langle a^\\dagger\\rangle  \\langle {{\\sigma}1}^{{21}}  {{\\sigma}3}^{{12}}\\rangle  -2 \\langle a^\\dagger\\rangle  \\langle {{\\sigma}3}^{{12}}\\rangle  \\langle {{\\sigma}1}^{{21}}\\rangle  \\right) -1 i g3 \\left( \\langle {{\\sigma}1}^{{21}}\\rangle  \\langle a  {{\\sigma}3}^{{21}}\\rangle  + \\langle {{\\sigma}3}^{{21}}\\rangle  \\langle a  {{\\sigma}1}^{{21}}\\rangle  + \\langle a\\rangle  \\langle {{\\sigma}1}^{{21}}  {{\\sigma}3}^{{21}}\\rangle  -2 \\langle a\\rangle  \\langle {{\\sigma}1}^{{21}}\\rangle  \\langle {{\\sigma}3}^{{21}}\\rangle  \\right) + 1 i g1 \\langle a^\\dagger  {{\\sigma}3}^{{22}}\\rangle  \\\\\n",
       "\\frac{d}{dt} \\langle {{\\sigma}1}^{{22}}  {{\\sigma}3}^{{21}}\\rangle  =& 1 i g1 \\left( \\langle {{\\sigma}1}^{{12}}\\rangle  \\langle a^\\dagger  {{\\sigma}3}^{{21}}\\rangle  + \\langle {{\\sigma}3}^{{21}}\\rangle  \\langle a^\\dagger  {{\\sigma}1}^{{12}}\\rangle  + \\langle a^\\dagger\\rangle  \\langle {{\\sigma}1}^{{12}}  {{\\sigma}3}^{{21}}\\rangle  -2 \\langle a^\\dagger\\rangle  \\langle {{\\sigma}1}^{{12}}\\rangle  \\langle {{\\sigma}3}^{{21}}\\rangle  \\right) -1 i g1 \\left( \\langle {{\\sigma}1}^{{21}}\\rangle  \\langle a  {{\\sigma}3}^{{21}}\\rangle  + \\langle {{\\sigma}3}^{{21}}\\rangle  \\langle a  {{\\sigma}1}^{{21}}\\rangle  + \\langle a\\rangle  \\langle {{\\sigma}1}^{{21}}  {{\\sigma}3}^{{21}}\\rangle  -2 \\langle a\\rangle  \\langle {{\\sigma}1}^{{21}}\\rangle  \\langle {{\\sigma}3}^{{21}}\\rangle  \\right) + 1 i g3 \\langle a^\\dagger  {{\\sigma}1}^{{22}}\\rangle  -2 i g3 \\left( \\langle a^\\dagger\\rangle  \\langle {{\\sigma}1}^{{22}}  {{\\sigma}3}^{{22}}\\rangle  + \\langle {{\\sigma}3}^{{22}}\\rangle  \\langle a^\\dagger  {{\\sigma}1}^{{22}}\\rangle  + \\langle {{\\sigma}1}^{{22}}\\rangle  \\langle a^\\dagger  {{\\sigma}3}^{{22}}\\rangle  -2 \\langle a^\\dagger\\rangle  \\langle {{\\sigma}1}^{{22}}\\rangle  \\langle {{\\sigma}3}^{{22}}\\rangle  \\right) \\\\\n",
       "\\frac{d}{dt} \\langle {{\\sigma}1}^{{21}}  {{\\sigma}3}^{{21}}\\rangle  =& -2 i g3 \\left( \\langle {{\\sigma}3}^{{22}}\\rangle  \\langle a^\\dagger  {{\\sigma}1}^{{21}}\\rangle  + \\langle {{\\sigma}1}^{{21}}\\rangle  \\langle a^\\dagger  {{\\sigma}3}^{{22}}\\rangle  + \\langle a^\\dagger\\rangle  \\langle {{\\sigma}1}^{{21}}  {{\\sigma}3}^{{22}}\\rangle  -2 \\langle a^\\dagger\\rangle  \\langle {{\\sigma}1}^{{21}}\\rangle  \\langle {{\\sigma}3}^{{22}}\\rangle  \\right) + 1 i g1 \\langle a^\\dagger  {{\\sigma}3}^{{21}}\\rangle  -2 i g1 \\left( \\langle {{\\sigma}1}^{{22}}\\rangle  \\langle a^\\dagger  {{\\sigma}3}^{{21}}\\rangle  + \\langle a^\\dagger\\rangle  \\langle {{\\sigma}1}^{{22}}  {{\\sigma}3}^{{21}}\\rangle  + \\langle {{\\sigma}3}^{{21}}\\rangle  \\langle a^\\dagger  {{\\sigma}1}^{{22}}\\rangle  -2 \\langle a^\\dagger\\rangle  \\langle {{\\sigma}1}^{{22}}\\rangle  \\langle {{\\sigma}3}^{{21}}\\rangle  \\right) + 1 i g3 \\langle a^\\dagger  {{\\sigma}1}^{{21}}\\rangle  \\\\\n",
       "\\frac{d}{dt} \\langle {{\\sigma}1}^{{22}}  {{\\sigma}3}^{{22}}\\rangle  =& -1 i g1 \\left( \\langle {{\\sigma}3}^{{22}}\\rangle  \\langle a  {{\\sigma}1}^{{21}}\\rangle  + \\langle {{\\sigma}1}^{{21}}\\rangle  \\langle a  {{\\sigma}3}^{{22}}\\rangle  + \\langle a\\rangle  \\langle {{\\sigma}1}^{{21}}  {{\\sigma}3}^{{22}}\\rangle  -2 \\langle a\\rangle  \\langle {{\\sigma}1}^{{21}}\\rangle  \\langle {{\\sigma}3}^{{22}}\\rangle  \\right) + 1 i g1 \\left( \\langle {{\\sigma}1}^{{12}}\\rangle  \\langle a^\\dagger  {{\\sigma}3}^{{22}}\\rangle  + \\langle a^\\dagger\\rangle  \\langle {{\\sigma}1}^{{12}}  {{\\sigma}3}^{{22}}\\rangle  + \\langle {{\\sigma}3}^{{22}}\\rangle  \\langle a^\\dagger  {{\\sigma}1}^{{12}}\\rangle  -2 \\langle a^\\dagger\\rangle  \\langle {{\\sigma}1}^{{12}}\\rangle  \\langle {{\\sigma}3}^{{22}}\\rangle  \\right) + 1 i g3 \\left( \\langle a^\\dagger\\rangle  \\langle {{\\sigma}1}^{{22}}  {{\\sigma}3}^{{12}}\\rangle  + \\langle {{\\sigma}1}^{{22}}\\rangle  \\langle a^\\dagger  {{\\sigma}3}^{{12}}\\rangle  + \\langle {{\\sigma}3}^{{12}}\\rangle  \\langle a^\\dagger  {{\\sigma}1}^{{22}}\\rangle  -2 \\langle a^\\dagger\\rangle  \\langle {{\\sigma}3}^{{12}}\\rangle  \\langle {{\\sigma}1}^{{22}}\\rangle  \\right) -1 i g3 \\left( \\langle a\\rangle  \\langle {{\\sigma}1}^{{22}}  {{\\sigma}3}^{{21}}\\rangle  + \\langle {{\\sigma}1}^{{22}}\\rangle  \\langle a  {{\\sigma}3}^{{21}}\\rangle  + \\langle {{\\sigma}3}^{{21}}\\rangle  \\langle a  {{\\sigma}1}^{{22}}\\rangle  -2 \\langle a\\rangle  \\langle {{\\sigma}1}^{{22}}\\rangle  \\langle {{\\sigma}3}^{{21}}\\rangle  \\right)\n",
       "\\end{align}\n"
      ],
      "text/plain": [
       "∂ₜ(⟨σ222⟩) = (0 + 1im)*g2*⟨a′*σ212⟩ + (0 - 1im)*g2*⟨a*σ221⟩ - ⟨σ222⟩\n",
       "∂ₜ(⟨a′*σ212⟩) = (0 + 2im)*g2*(⟨a⟩*⟨a′*σ222⟩ + ⟨σ222⟩*⟨a′*a⟩ + ⟨a′⟩*⟨a*σ222⟩ - 2⟨a′⟩*⟨a⟩*⟨σ222⟩) + (0 + 1im)*g2*⟨σ222⟩ + (0 - 1im)*g2*⟨a′*a⟩ + (0 + 1im)*g3*⟨σ212*σ321⟩ + (0 - 1im)*Δ*⟨a′*σ212⟩ + (0 + 1im)*g1*⟨σ121*σ212⟩ - 0.5⟨a′*σ212⟩\n",
       "∂ₜ(⟨a⟩) = (0 + 1im)*Δ*⟨a⟩ + (0 - 1im)*g1*⟨σ112⟩ + (0 - 1im)*g2*⟨σ212⟩ + (0 - 1im)*g3*⟨σ312⟩\n",
       "∂ₜ(⟨a′*σ222⟩) = (0 + 1im)*g2*(⟨σ212⟩*⟨a′*a′⟩ + 2⟨a′⟩*⟨a′*σ212⟩ - 2(⟨a′⟩^2)*⟨σ212⟩) + (0 + 1im)*g1*⟨σ121*σ222⟩ + (0 - 1im)*g2*(⟨σ221⟩*⟨a′*a⟩ + ⟨a⟩*⟨a′*σ221⟩ + ⟨a′⟩*⟨a*σ221⟩ - 2⟨a′⟩*⟨a⟩*⟨σ221⟩) + (0 + 1im)*g3*⟨σ222*σ321⟩ + (0 - 1im)*Δ*⟨a′*σ222⟩ - ⟨a′*σ222⟩\n",
       "∂ₜ(⟨a′*a⟩) = (0 - 1im)*g2*⟨a′*σ212⟩ + (0 - 1im)*g1*⟨a′*σ112⟩ + (0 + 1im)*g2*⟨a*σ221⟩ + (0 - 1im)*g3*⟨a′*σ312⟩ + (0 + 1im)*g1*⟨a*σ121⟩ + (0 + 1im)*g3*⟨a*σ321⟩\n",
       "∂ₜ(⟨σ212*σ321⟩) = (0 - 1im)*g2*⟨a*σ321⟩ + (0 + 2im)*g2*(⟨σ222⟩*⟨a*σ321⟩ + ⟨a⟩*⟨σ222*σ321⟩ + ⟨σ321⟩*⟨a*σ222⟩ - 2⟨a⟩*⟨σ222⟩*⟨σ321⟩) + (0 + 1im)*g3*⟨a′*σ212⟩ + (0 - 2im)*g3*(⟨σ212⟩*⟨a′*σ322⟩ + ⟨σ322⟩*⟨a′*σ212⟩ + ⟨a′⟩*⟨σ212*σ322⟩ - 2⟨a′⟩*⟨σ212⟩*⟨σ322⟩) - 0.5⟨σ212*σ321⟩\n",
       "∂ₜ(⟨σ121*σ212⟩) = (0 - 2im)*g1*(⟨σ122⟩*⟨a′*σ212⟩ + ⟨σ212⟩*⟨a′*σ122⟩ + ⟨a′⟩*⟨σ122*σ212⟩ - 2⟨a′⟩*⟨σ212⟩*⟨σ122⟩) + (0 + 2im)*g2*(⟨σ121⟩*⟨a*σ222⟩ + ⟨σ222⟩*⟨a*σ121⟩ + ⟨a⟩*⟨σ121*σ222⟩ - 2⟨a⟩*⟨σ222⟩*⟨σ121⟩) + (0 + 1im)*g1*⟨a′*σ212⟩ + (0 - 1im)*g2*⟨a*σ121⟩ - 0.5⟨σ121*σ212⟩\n",
       "∂ₜ(⟨σ112⟩) = (0 - 1im)*g1*⟨a⟩ + (0 + 2im)*g1*⟨a*σ122⟩\n",
       "∂ₜ(⟨σ212⟩) = (0 - 1im)*g2*⟨a⟩ + (0 + 2im)*g2*⟨a*σ222⟩ - 0.5⟨σ212⟩\n",
       "∂ₜ(⟨σ312⟩) = (0 - 1im)*g3*⟨a⟩ + (0 + 2im)*g3*⟨a*σ322⟩\n",
       "∂ₜ(⟨a′*a′⟩) = (0 + 2im)*g2*⟨a′*σ221⟩ + (0 - 2im)*Δ*⟨a′*a′⟩ + (0 + 2im)*g1*⟨a′*σ121⟩ + (0 + 2im)*g3*⟨a′*σ321⟩\n",
       "∂ₜ(⟨σ121*σ222⟩) = (0 + 1im)*g2*(⟨σ212⟩*⟨a′*σ121⟩ + ⟨a′⟩*⟨σ121*σ212⟩ + ⟨σ121⟩*⟨a′*σ212⟩ - 2⟨a′⟩*⟨σ212⟩*⟨σ121⟩) + (0 + 1im)*g1*⟨a′*σ222⟩ + (0 - 2im)*g1*(⟨a′⟩*⟨σ122*σ222⟩ + ⟨σ222⟩*⟨a′*σ122⟩ + ⟨σ122⟩*⟨a′*σ222⟩ - 2⟨a′⟩*⟨σ122⟩*⟨σ222⟩) + (0 - 1im)*g2*(⟨σ121⟩*⟨a*σ221⟩ + ⟨a⟩*⟨σ121*σ221⟩ + ⟨σ221⟩*⟨a*σ121⟩ - 2⟨a⟩*⟨σ221⟩*⟨σ121⟩) - ⟨σ121*σ222⟩\n",
       "∂ₜ(⟨a′*σ221⟩) = (0 + 1im)*g1*⟨σ121*σ221⟩ + (0 + 1im)*g2*⟨a′*a′⟩ + (0 + 1im)*g3*⟨σ221*σ321⟩ + (0 - 1im)*Δ*⟨a′*σ221⟩ + (0 - 2im)*g2*(⟨σ222⟩*⟨a′*a′⟩ + 2⟨a′⟩*⟨a′*σ222⟩ - 2(⟨a′⟩^2)*⟨σ222⟩) - 0.5⟨a′*σ221⟩\n",
       "∂ₜ(⟨σ222*σ321⟩) = (0 - 2im)*g3*(⟨σ322⟩*⟨a′*σ222⟩ + ⟨a′⟩*⟨σ222*σ322⟩ + ⟨σ222⟩*⟨a′*σ322⟩ - 2⟨a′⟩*⟨σ222⟩*⟨σ322⟩) + (0 - 1im)*g2*(⟨σ321⟩*⟨a*σ221⟩ + ⟨σ221⟩*⟨a*σ321⟩ + ⟨a⟩*⟨σ221*σ321⟩ - 2⟨a⟩*⟨σ221⟩*⟨σ321⟩) + (0 + 1im)*g2*(⟨a′⟩*⟨σ212*σ321⟩ + ⟨σ321⟩*⟨a′*σ212⟩ + ⟨σ212⟩*⟨a′*σ321⟩ - 2⟨a′⟩*⟨σ212⟩*⟨σ321⟩) + (0 + 1im)*g3*⟨a′*σ222⟩ - ⟨σ222*σ321⟩\n",
       "∂ₜ(⟨a′*σ112⟩) = (0 + 2im)*g1*(⟨a′⟩*⟨a*σ122⟩ + ⟨a⟩*⟨a′*σ122⟩ + ⟨σ122⟩*⟨a′*a⟩ - 2⟨a′⟩*⟨a⟩*⟨σ122⟩) + (0 + 1im)*g1*⟨σ122⟩ + (0 - 1im)*g1*⟨a′*a⟩ + (0 - 1im)*Δ*⟨a′*σ112⟩ + (0 + 1im)*g2*⟨σ112*σ221⟩ + (0 + 1im)*g3*⟨σ112*σ321⟩\n",
       "∂ₜ(⟨a′*σ312⟩) = (0 + 1im)*g3*⟨σ322⟩ + (0 - 1im)*g3*⟨a′*a⟩ + (0 - 1im)*Δ*⟨a′*σ312⟩ + (0 + 1im)*g2*⟨σ221*σ312⟩ + (0 + 2im)*g3*(⟨a′⟩*⟨a*σ322⟩ + ⟨a⟩*⟨a′*σ322⟩ + ⟨σ322⟩*⟨a′*a⟩ - 2⟨a′⟩*⟨a⟩*⟨σ322⟩) + (0 + 1im)*g1*⟨σ121*σ312⟩\n",
       "∂ₜ(⟨a′*σ322⟩) = (0 + 1im)*g3*(⟨σ312⟩*⟨a′*a′⟩ + 2⟨a′⟩*⟨a′*σ312⟩ - 2(⟨a′⟩^2)*⟨σ312⟩) + (0 + 1im)*g2*⟨σ221*σ322⟩ + (0 + 1im)*g1*⟨σ121*σ322⟩ + (0 - 1im)*g3*(⟨σ321⟩*⟨a′*a⟩ + ⟨a′⟩*⟨a*σ321⟩ + ⟨a⟩*⟨a′*σ321⟩ - 2⟨a′⟩*⟨a⟩*⟨σ321⟩) + (0 - 1im)*Δ*⟨a′*σ322⟩\n",
       "∂ₜ(⟨σ322⟩) = (0 + 1im)*g3*⟨a′*σ312⟩ + (0 - 1im)*g3*⟨a*σ321⟩\n",
       "∂ₜ(⟨σ212*σ322⟩) = (0 + 1im)*g3*(⟨σ212⟩*⟨a′*σ312⟩ + ⟨a′⟩*⟨σ212*σ312⟩ + ⟨σ312⟩*⟨a′*σ212⟩ - 2⟨a′⟩*⟨σ312⟩*⟨σ212⟩) + (0 + 2im)*g2*(⟨a⟩*⟨σ222*σ322⟩ + ⟨σ322⟩*⟨a*σ222⟩ + ⟨σ222⟩*⟨a*σ322⟩ - 2⟨a⟩*⟨σ222⟩*⟨σ322⟩) + (0 - 1im)*g2*⟨a*σ322⟩ + (0 - 1im)*g3*(⟨a⟩*⟨σ212*σ321⟩ + ⟨σ321⟩*⟨a*σ212⟩ + ⟨σ212⟩*⟨a*σ321⟩ - 2⟨a⟩*⟨σ212⟩*⟨σ321⟩) - 0.5⟨σ212*σ322⟩\n",
       "∂ₜ(⟨σ122⟩) = (0 + 1im)*g1*⟨a′*σ112⟩ + (0 - 1im)*g1*⟨a*σ121⟩\n",
       "∂ₜ(⟨a′*σ122⟩) = (0 + 1im)*g1*(⟨σ112⟩*⟨a′*a′⟩ + 2⟨a′⟩*⟨a′*σ112⟩ - 2(⟨a′⟩^2)*⟨σ112⟩) + (0 - 1im)*g1*(⟨σ121⟩*⟨a′*a⟩ + ⟨a′⟩*⟨a*σ121⟩ + ⟨a⟩*⟨a′*σ121⟩ - 2⟨a′⟩*⟨a⟩*⟨σ121⟩) + (0 + 1im)*g2*⟨σ122*σ221⟩ + (0 + 1im)*g3*⟨σ122*σ321⟩ + (0 - 1im)*Δ*⟨a′*σ122⟩\n",
       "∂ₜ(⟨σ122*σ212⟩) = (0 + 2im)*g2*(⟨σ122⟩*⟨a*σ222⟩ + ⟨σ222⟩*⟨a*σ122⟩ + ⟨a⟩*⟨σ122*σ222⟩ - 2⟨a⟩*⟨σ122⟩*⟨σ222⟩) + (0 - 1im)*g1*(⟨σ121⟩*⟨a*σ212⟩ + ⟨σ212⟩*⟨a*σ121⟩ + ⟨a⟩*⟨σ121*σ212⟩ - 2⟨a⟩*⟨σ212⟩*⟨σ121⟩) + (0 + 1im)*g1*(⟨σ112⟩*⟨a′*σ212⟩ + ⟨σ212⟩*⟨a′*σ112⟩ + ⟨a′⟩*⟨σ112*σ212⟩ - 2⟨a′⟩*⟨σ212⟩*⟨σ112⟩) + (0 - 1im)*g2*⟨a*σ122⟩ - 0.5⟨σ122*σ212⟩\n",
       "∂ₜ(⟨a′*σ121⟩) = (0 + 1im)*g1*⟨a′*a′⟩ + (0 - 2im)*g1*(⟨σ122⟩*⟨a′*a′⟩ + 2⟨a′⟩*⟨a′*σ122⟩ - 2(⟨a′⟩^2)*⟨σ122⟩) + (0 + 1im)*g2*⟨σ121*σ221⟩ + (0 - 1im)*Δ*⟨a′*σ121⟩ + (0 + 1im)*g3*⟨σ121*σ321⟩\n",
       "∂ₜ(⟨a′*σ321⟩) = (0 + 1im)*g3*⟨a′*a′⟩ + (0 - 2im)*g3*(⟨σ322⟩*⟨a′*a′⟩ + 2⟨a′⟩*⟨a′*σ322⟩ - 2(⟨a′⟩^2)*⟨σ322⟩) + (0 + 1im)*g1*⟨σ121*σ321⟩ + (0 - 1im)*Δ*⟨a′*σ321⟩ + (0 + 1im)*g2*⟨σ221*σ321⟩\n",
       "∂ₜ(⟨σ122*σ222⟩) = (0 - 1im)*g1*(⟨σ121⟩*⟨a*σ222⟩ + ⟨σ222⟩*⟨a*σ121⟩ + ⟨a⟩*⟨σ121*σ222⟩ - 2⟨a⟩*⟨σ222⟩*⟨σ121⟩) + (0 + 1im)*g1*(⟨σ222⟩*⟨a′*σ112⟩ + ⟨σ112⟩*⟨a′*σ222⟩ + ⟨a′⟩*⟨σ112*σ222⟩ - 2⟨a′⟩*⟨σ222⟩*⟨σ112⟩) + (0 + 1im)*g2*(⟨σ122⟩*⟨a′*σ212⟩ + ⟨σ212⟩*⟨a′*σ122⟩ + ⟨a′⟩*⟨σ122*σ212⟩ - 2⟨a′⟩*⟨σ212⟩*⟨σ122⟩) + (0 - 1im)*g2*(⟨σ221⟩*⟨a*σ122⟩ + ⟨σ122⟩*⟨a*σ221⟩ + ⟨a⟩*⟨σ122*σ221⟩ - 2⟨a⟩*⟨σ122⟩*⟨σ221⟩) - ⟨σ122*σ222⟩\n",
       "∂ₜ(⟨σ121*σ221⟩) = (0 + 1im)*g1*⟨a′*σ221⟩ + (0 + 1im)*g2*⟨a′*σ121⟩ + (0 - 2im)*g2*(⟨σ222⟩*⟨a′*σ121⟩ + ⟨σ121⟩*⟨a′*σ222⟩ + ⟨a′⟩*⟨σ121*σ222⟩ - 2⟨a′⟩*⟨σ222⟩*⟨σ121⟩) + (0 - 2im)*g1*(⟨σ221⟩*⟨a′*σ122⟩ + ⟨σ122⟩*⟨a′*σ221⟩ + ⟨a′⟩*⟨σ122*σ221⟩ - 2⟨a′⟩*⟨σ122⟩*⟨σ221⟩) - 0.5⟨σ121*σ221⟩\n",
       "∂ₜ(⟨σ221*σ321⟩) = (0 + 1im)*g3*⟨a′*σ221⟩ + (0 + 1im)*g2*⟨a′*σ321⟩ + (0 - 2im)*g2*(⟨a′⟩*⟨σ222*σ321⟩ + ⟨σ222⟩*⟨a′*σ321⟩ + ⟨σ321⟩*⟨a′*σ222⟩ - 2⟨a′⟩*⟨σ222⟩*⟨σ321⟩) + (0 - 2im)*g3*(⟨σ322⟩*⟨a′*σ221⟩ + ⟨σ221⟩*⟨a′*σ322⟩ + ⟨a′⟩*⟨σ221*σ322⟩ - 2⟨a′⟩*⟨σ221⟩*⟨σ322⟩) - 0.5⟨σ221*σ321⟩\n",
       "∂ₜ(⟨σ222*σ322⟩) = (0 + 1im)*g2*(⟨σ212⟩*⟨a′*σ322⟩ + ⟨σ322⟩*⟨a′*σ212⟩ + ⟨a′⟩*⟨σ212*σ322⟩ - 2⟨a′⟩*⟨σ212⟩*⟨σ322⟩) + (0 + 1im)*g3*(⟨a′⟩*⟨σ222*σ312⟩ + ⟨σ312⟩*⟨a′*σ222⟩ + ⟨σ222⟩*⟨a′*σ312⟩ - 2⟨a′⟩*⟨σ312⟩*⟨σ222⟩) + (0 - 1im)*g2*(⟨a⟩*⟨σ221*σ322⟩ + ⟨σ221⟩*⟨a*σ322⟩ + ⟨σ322⟩*⟨a*σ221⟩ - 2⟨a⟩*⟨σ221⟩*⟨σ322⟩) + (0 - 1im)*g3*(⟨σ222⟩*⟨a*σ321⟩ + ⟨a⟩*⟨σ222*σ321⟩ + ⟨σ321⟩*⟨a*σ222⟩ - 2⟨a⟩*⟨σ222⟩*⟨σ321⟩) - ⟨σ222*σ322⟩\n",
       "∂ₜ(⟨σ112*σ321⟩) = (0 + 1im)*g3*⟨a′*σ112⟩ + (0 - 1im)*g1*⟨a*σ321⟩ + (0 + 2im)*g1*(⟨a⟩*⟨σ122*σ321⟩ + ⟨σ122⟩*⟨a*σ321⟩ + ⟨σ321⟩*⟨a*σ122⟩ - 2⟨a⟩*⟨σ122⟩*⟨σ321⟩) + (0 - 2im)*g3*(⟨σ112⟩*⟨a′*σ322⟩ + ⟨a′⟩*⟨σ112*σ322⟩ + ⟨σ322⟩*⟨a′*σ112⟩ - 2⟨a′⟩*⟨σ112⟩*⟨σ322⟩)\n",
       "∂ₜ(⟨σ121*σ322⟩) = (0 - 2im)*g1*(⟨a′⟩*⟨σ122*σ322⟩ + ⟨σ322⟩*⟨a′*σ122⟩ + ⟨σ122⟩*⟨a′*σ322⟩ - 2⟨a′⟩*⟨σ122⟩*⟨σ322⟩) + (0 + 1im)*g3*(⟨σ312⟩*⟨a′*σ121⟩ + ⟨σ121⟩*⟨a′*σ312⟩ + ⟨a′⟩*⟨σ121*σ312⟩ - 2⟨a′⟩*⟨σ312⟩*⟨σ121⟩) + (0 - 1im)*g3*(⟨σ121⟩*⟨a*σ321⟩ + ⟨σ321⟩*⟨a*σ121⟩ + ⟨a⟩*⟨σ121*σ321⟩ - 2⟨a⟩*⟨σ121⟩*⟨σ321⟩) + (0 + 1im)*g1*⟨a′*σ322⟩\n",
       "∂ₜ(⟨σ122*σ321⟩) = (0 + 1im)*g1*(⟨σ112⟩*⟨a′*σ321⟩ + ⟨σ321⟩*⟨a′*σ112⟩ + ⟨a′⟩*⟨σ112*σ321⟩ - 2⟨a′⟩*⟨σ112⟩*⟨σ321⟩) + (0 - 1im)*g1*(⟨σ121⟩*⟨a*σ321⟩ + ⟨σ321⟩*⟨a*σ121⟩ + ⟨a⟩*⟨σ121*σ321⟩ - 2⟨a⟩*⟨σ121⟩*⟨σ321⟩) + (0 + 1im)*g3*⟨a′*σ122⟩ + (0 - 2im)*g3*(⟨a′⟩*⟨σ122*σ322⟩ + ⟨σ322⟩*⟨a′*σ122⟩ + ⟨σ122⟩*⟨a′*σ322⟩ - 2⟨a′⟩*⟨σ122⟩*⟨σ322⟩)\n",
       "∂ₜ(⟨σ121*σ321⟩) = (0 - 2im)*g3*(⟨σ322⟩*⟨a′*σ121⟩ + ⟨σ121⟩*⟨a′*σ322⟩ + ⟨a′⟩*⟨σ121*σ322⟩ - 2⟨a′⟩*⟨σ121⟩*⟨σ322⟩) + (0 + 1im)*g1*⟨a′*σ321⟩ + (0 - 2im)*g1*(⟨σ122⟩*⟨a′*σ321⟩ + ⟨a′⟩*⟨σ122*σ321⟩ + ⟨σ321⟩*⟨a′*σ122⟩ - 2⟨a′⟩*⟨σ122⟩*⟨σ321⟩) + (0 + 1im)*g3*⟨a′*σ121⟩\n",
       "∂ₜ(⟨σ122*σ322⟩) = (0 - 1im)*g1*(⟨σ322⟩*⟨a*σ121⟩ + ⟨σ121⟩*⟨a*σ322⟩ + ⟨a⟩*⟨σ121*σ322⟩ - 2⟨a⟩*⟨σ121⟩*⟨σ322⟩) + (0 + 1im)*g1*(⟨σ112⟩*⟨a′*σ322⟩ + ⟨a′⟩*⟨σ112*σ322⟩ + ⟨σ322⟩*⟨a′*σ112⟩ - 2⟨a′⟩*⟨σ112⟩*⟨σ322⟩) + (0 + 1im)*g3*(⟨a′⟩*⟨σ122*σ312⟩ + ⟨σ122⟩*⟨a′*σ312⟩ + ⟨σ312⟩*⟨a′*σ122⟩ - 2⟨a′⟩*⟨σ312⟩*⟨σ122⟩) + (0 - 1im)*g3*(⟨a⟩*⟨σ122*σ321⟩ + ⟨σ122⟩*⟨a*σ321⟩ + ⟨σ321⟩*⟨a*σ122⟩ - 2⟨a⟩*⟨σ122⟩*⟨σ321⟩)\n"
      ]
     },
     "execution_count": 41,
     "metadata": {},
     "output_type": "execute_result"
    }
   ],
   "source": [
    "eqs_complete = complete(eqs2,order=2)"
   ]
  },
  {
   "cell_type": "code",
   "execution_count": null,
   "metadata": {},
   "outputs": [
    {
     "data": {
      "text/plain": [
       "33"
      ]
     },
     "execution_count": 65,
     "metadata": {},
     "output_type": "execute_result"
    }
   ],
   "source": [
    "length(eqs_complete)"
   ]
  },
  {
   "cell_type": "code",
   "execution_count": null,
   "metadata": {},
   "outputs": [
    {
     "data": {
      "text/plain": [
       "\u001b[0m\u001b[1mModel sys2 with 33 equations\u001b[22m\n",
       "\u001b[0m\u001b[1mStates (33):\u001b[22m\n",
       "  var\"⟨σ222⟩\"(t)\n",
       "  var\"⟨a′*σ212⟩\"(t)\n",
       "  var\"⟨a⟩\"(t)\n",
       "  var\"⟨a′*σ222⟩\"(t)\n",
       "  var\"⟨a′*a⟩\"(t)\n",
       "  var\"⟨σ212*σ321⟩\"(t)\n",
       "⋮\n",
       "\u001b[0m\u001b[1mParameters (4):\u001b[22m\n",
       "  g2\n",
       "  g1\n",
       "  Δ\n",
       "  g3"
      ]
     },
     "execution_count": 42,
     "metadata": {},
     "output_type": "execute_result"
    }
   ],
   "source": [
    "@named sys2 = ODESystem(eqs_complete)"
   ]
  },
  {
   "cell_type": "code",
   "execution_count": null,
   "metadata": {},
   "outputs": [
    {
     "data": {
      "text/plain": [
       "\u001b[36mODEProblem\u001b[0m with uType \u001b[36mVector{ComplexF64}\u001b[0m and tType \u001b[36mFloat64\u001b[0m. In-place: \u001b[36mtrue\u001b[0m\n",
       "timespan: (0.0, 5.0)\n",
       "u0: 33-element Vector{ComplexF64}:\n",
       " 1.0 + 0.0im\n",
       " 0.0 + 0.0im\n",
       " 0.0 + 0.0im\n",
       " 0.0 + 0.0im\n",
       " 0.0 + 0.0im\n",
       " 0.0 + 0.0im\n",
       " 0.0 + 0.0im\n",
       " 0.0 + 0.0im\n",
       " 0.0 + 0.0im\n",
       " 0.0 + 0.0im\n",
       " 0.0 + 0.0im\n",
       " 0.0 + 0.0im\n",
       " 0.0 + 0.0im\n",
       "     ⋮\n",
       " 0.0 + 0.0im\n",
       " 0.0 + 0.0im\n",
       " 0.0 + 0.0im\n",
       " 0.0 + 0.0im\n",
       " 0.0 + 0.0im\n",
       " 0.0 + 0.0im\n",
       " 0.0 + 0.0im\n",
       " 0.0 + 0.0im\n",
       " 0.0 + 0.0im\n",
       " 0.0 + 0.0im\n",
       " 0.0 + 0.0im\n",
       " 0.0 + 0.0im"
      ]
     },
     "execution_count": 43,
     "metadata": {},
     "output_type": "execute_result"
    }
   ],
   "source": [
    "Tmax = 5.0\n",
    "u0 = zeros(ComplexF64,length(eqs_complete))\n",
    "u0[1] = 1.0\n",
    "\n",
    "ps = [Δ, g2, g1, g3]\n",
    "p = ps .=> [0.0,2.0,1.0,3.0]\n",
    "prob2 = ODEProblem(sys2,u0,(0.0,Tmax),p)"
   ]
  },
  {
   "cell_type": "code",
   "execution_count": null,
   "metadata": {},
   "outputs": [
    {
     "data": {
      "text/plain": [
       "retcode: Success\n",
       "Interpolation: specialized 9th order lazy interpolation, specialized 4rd order \"free\" stiffness-aware interpolation\n",
       "t: 27-element Vector{Float64}:\n",
       " 0.0\n",
       " 0.0004995004371876367\n",
       " 0.0039311789983933025\n",
       " 0.025919752093018462\n",
       " 0.10453444381813612\n",
       " 0.22176496046256472\n",
       " 0.3620102643169586\n",
       " 0.5268624010692012\n",
       " 0.69324133492964\n",
       " 0.9128807075849288\n",
       " 1.1099202268720814\n",
       " 1.3603893828650535\n",
       " 1.5610233135245433\n",
       " ⋮\n",
       " 2.280528936457034\n",
       " 2.512345549340849\n",
       " 2.766770060180225\n",
       " 3.021798576461143\n",
       " 3.279968257816284\n",
       " 3.5215888903395096\n",
       " 3.792387335810535\n",
       " 4.042850592356196\n",
       " 4.291342475392018\n",
       " 4.540268681611094\n",
       " 4.794328951513771\n",
       " 5.0\n",
       "u: 27-element Vector{Vector{ComplexF64}}:\n",
       " [1.0 + 0.0im, 0.0 + 0.0im, 0.0 + 0.0im, 0.0 + 0.0im, 0.0 + 0.0im, 0.0 + 0.0im, 0.0 + 0.0im, 0.0 + 0.0im, 0.0 + 0.0im, 0.0 + 0.0im  …  0.0 + 0.0im, 0.0 + 0.0im, 0.0 + 0.0im, 0.0 + 0.0im, 0.0 + 0.0im, 0.0 + 0.0im, 0.0 + 0.0im, 0.0 + 0.0im, 0.0 + 0.0im, 0.0 + 0.0im]\n",
       " [0.9994996267051787 + 0.0im, 0.0 + 0.0009986262805364743im, 0.0 + 0.0im, 0.0 + 0.0im, 9.977527019720258e-7 + 0.0im, -7.482528825593604e-7 + 0.0im, -2.494176275198696e-7 + 0.0im, 0.0 + 0.0im, 0.0 + 0.0im, 0.0 + 0.0im  …  0.0 + 0.0im, 6.220906188362488e-14 + 0.0im, 0.0 + 0.0im, 0.0 + 0.0im, 5.598815569525314e-13 + 0.0im, 1.8672061566047023e-13 + 0.0im, 0.0 + 0.0im, 0.0 + 0.0im, 0.0 + 0.0im, 3.4864588311455274e-26 + 0.0im]\n",
       " [0.9960149242657534 + 0.0im, 0.0 + 0.007839009323848595im, 0.0 + 0.0im, 0.0 + 0.0im, 6.169212405825968e-5 + 0.0im, -4.624127585915754e-5 + 0.0im, -1.5413758639326384e-5 + 0.0im, 0.0 + 0.0im, 0.0 + 0.0im, 0.0 + 0.0im  …  0.0 + 0.0im, 2.3756246089164404e-10 + 0.0im, 0.0 + 0.0im, 0.0 + 0.0im, 2.138062146664905e-9 + 0.0im, 7.155388581388373e-10 + 0.0im, 0.0 + 0.0im, 0.0 + 0.0im, 0.0 + 0.0im, 5.119958584454227e-19 + 0.0im]\n",
       " [0.971784869319825 + 0.0im, 0.0 + 0.050783069581373234im, 0.0 + 0.0im, 0.0 + 0.0im, 0.0026467792914885878 + 0.0im, -0.00198111788026552 + 0.0im, -0.0006603742005909978 + 0.0im, 0.0 + 0.0im, 0.0 + 0.0im, 0.0 + 0.0im  …  0.0 + 0.0im, 4.3440440346268916e-7 + 0.0im, 0.0 + 0.0im, 0.0 + 0.0im, 3.909634969041282e-6 + 0.0im, 1.3410473467130937e-6 + 0.0im, 0.0 + 0.0im, 0.0 + 0.0im, 0.0 + 0.0im, 1.7984159880162805e-12 + 0.0im]\n",
       " [0.8610896633492972 + 0.0im, 0.0 + 0.1892281237449337im, 0.0 + 0.0im, 0.0 + 0.0im, 0.0399394243149685 + 0.0im, -0.030509474086806487 + 0.0im, -0.010175942172127639 + 0.0im, 0.0 + 0.0im, 0.0 + 0.0im, 0.0 + 0.0im  …  0.0 + 0.0im, 9.759995612862209e-5 + 0.0im, 0.0 + 0.0im, 0.0 + 0.0im, 0.0008781325409138868 + 0.0im, 0.00033978976925168797 + 0.0im, 0.0 + 0.0im, 0.0 + 0.0im, 0.0 + 0.0im, 1.1558802418928252e-7 + 0.0im]\n",
       " [0.6463756330915995 + 0.0im, 0.0 + 0.3326957967985308im, 0.0 + 0.0im, 0.0 + 0.0im, 0.14643334546069378 + 0.0im, -0.121848786397315 + 0.0im, -0.04105832635604943 + 0.0im, 0.0 + 0.0im, 0.0 + 0.0im, 0.0 + 0.0im  …  0.0 + 0.0im, 0.0013370077959515311 + 0.0im, 0.0 + 0.0im, 0.0 + 0.0im, 0.011964881284323235 + 0.0im, 0.006123911350513263 + 0.0im, 0.0 + 0.0im, 0.0 + 0.0im, 0.0 + 0.0im, 3.828885445028231e-5 + 0.0im]\n",
       " [0.3724454704213908 + 0.0im, 0.0 + 0.3620115192479096im, 0.0 + 0.0im, 0.0 + 0.0im, 0.25330903180129444 + 0.0im, -0.24335282699382818 + 0.0im, -0.086271172508914 + 0.0im, 0.0 + 0.0im, 0.0 + 0.0im, 0.0 + 0.0im  …  0.0 + 0.0im, 0.004476160415356743 + 0.0im, 0.0 + 0.0im, 0.0 + 0.0im, 0.03889549492789129 + 0.0im, 0.03332064140798631 + 0.0im, 0.0 + 0.0im, 0.0 + 0.0im, 0.0 + 0.0im, 0.00125510358764264 + 0.0im]\n",
       " [0.1334023742470831 + 0.0im, 0.0 + 0.22141913014926773im, 0.0 + 0.0im, 0.0 + 0.0im, 0.2304755563833671 + 0.0im, -0.27900535217683103 + 0.0im, -0.1114058485835818 + 0.0im, 0.0 + 0.0im, 0.0 + 0.0im, 0.0 + 0.0im  …  0.0 + 0.0im, 0.00505854392174801 + 0.0im, 0.0 + 0.0im, 0.0 + 0.0im, 0.04009537915267425 + 0.0im, 0.08724627807479253 + 0.0im, 0.0 + 0.0im, 0.0 + 0.0im, 0.0 + 0.0im, 0.01139705688576399 + 0.0im]\n",
       " [0.035354196179709446 + 0.0im, 0.0 + 0.04288609716567331im, 0.0 + 0.0im, 0.0 + 0.0im, 0.1111738265437969 + 0.0im, -0.22550738067726686 + 0.0im, -0.09374809287690629 + 0.0im, 0.0 + 0.0im, 0.0 + 0.0im, 0.0 + 0.0im  …  0.0 + 0.0im, 0.002508535111604112 + 0.0im, 0.0 + 0.0im, 0.0 + 0.0im, 0.01671267603172011 + 0.0im, 0.12324493052647512 + 0.0im, 0.0 + 0.0im, 0.0 + 0.0im, 0.0 + 0.0im, 0.03354163528275044 + 0.0im]\n",
       " [0.06528087018118808 + 0.0im, 0.0 - 0.11936930604153935im, 0.0 + 0.0im, 0.0 + 0.0im, 0.07520916097849971 + 0.0im, -0.2104213265901341 + 0.0im, -0.05042308058920374 + 0.0im, 0.0 + 0.0im, 0.0 + 0.0im, 0.0 + 0.0im  …  0.0 + 0.0im, 0.006581445380831884 + 0.0im, 0.0 + 0.0im, 0.0 + 0.0im, 0.02874318962567361 + 0.0im, 0.12019891279930023 + 0.0im, 0.0 + 0.0im, 0.0 + 0.0im, 0.0 + 0.0im, 0.04438991844971208 + 0.0im]\n",
       " [0.18137089724045044 + 0.0im, 0.0 - 0.22807036393586255im, 0.0 + 0.0im, 0.0 + 0.0im, 0.18792317191306143 + 0.0im, -0.21340370875510623 + 0.0im, -0.016244359202430367 + 0.0im, 0.0 + 0.0im, 0.0 + 0.0im, 0.0 + 0.0im  …  0.0 + 0.0im, 0.018993592106388207 + 0.0im, 0.0 + 0.0im, 0.0 + 0.0im, 0.03343322334315666 + 0.0im, 0.08725601624615616 + 0.0im, 0.0 + 0.0im, 0.0 + 0.0im, 0.0 + 0.0im, 0.019304126451779893 + 0.0im]\n",
       " [0.3588311750887769 + 0.0im, 0.0 - 0.2213465442556371im, 0.0 + 0.0im, 0.0 + 0.0im, 0.2086314980935041 + 0.0im, -0.06307673622584531 + 0.0im, 0.02628088626379641 + 0.0im, 0.0 + 0.0im, 0.0 + 0.0im, 0.0 + 0.0im  …  0.0 + 0.0im, 0.032333858645640624 + 0.0im, 0.0 + 0.0im, 0.0 + 0.0im, -0.024371785408984516 + 0.0im, 0.03228384180144389 + 0.0im, 0.0 + 0.0im, 0.0 + 0.0im, 0.0 + 0.0im, -0.006120156939284203 + 0.0im]\n",
       " [0.3977867984731944 + 0.0im, 0.0 - 0.05714721937220402im, 0.0 + 0.0im, 0.0 + 0.0im, 0.0767650194831357 + 0.0im, 0.03917720065874181 + 0.0im, 0.04283171842970978 + 0.0im, 0.0 + 0.0im, 0.0 + 0.0im, 0.0 + 0.0im  …  0.0 + 0.0im, 0.02817497826658054 + 0.0im, 0.0 + 0.0im, 0.0 + 0.0im, -0.013526419994751002 + 0.0im, 0.004514335702151633 + 0.0im, 0.0 + 0.0im, 0.0 + 0.0im, 0.0 + 0.0im, -0.0024084852606631895 + 0.0im]\n",
       " ⋮\n",
       " [-0.014737196934100045 + 0.0im, 0.0 + 0.011730261055061295im, 0.0 + 0.0im, 0.0 + 0.0im, 0.17512966198477095 + 0.0im, -0.0689724079207678 + 0.0im, -0.043726512672951995 + 0.0im, 0.0 + 0.0im, 0.0 + 0.0im, 0.0 + 0.0im  …  0.0 + 0.0im, -0.0002517009676994333 + 0.0im, 0.0 + 0.0im, 0.0 + 0.0im, -0.003042132887282866 + 0.0im, -0.029612909846362567 + 0.0im, 0.0 + 0.0im, 0.0 + 0.0im, 0.0 + 0.0im, 0.003525573940827413 + 0.0im]\n",
       " [0.030415769622126547 + 0.0im, 0.0 - 0.09153182529625008im, 0.0 + 0.0im, 0.0 + 0.0im, 0.09686157790644626 + 0.0im, -0.044436170658113686 + 0.0im, 0.008096648021228071 + 0.0im, 0.0 + 0.0im, 0.0 + 0.0im, 0.0 + 0.0im  …  0.0 + 0.0im, 0.0017143341328188875 + 0.0im, 0.0 + 0.0im, 0.0 + 0.0im, 0.00608594044125561 + 0.0im, 0.0036418299581204034 + 0.0im, 0.0 + 0.0im, 0.0 + 0.0im, 0.0 + 0.0im, 0.011277884660705 + 0.0im]\n",
       " [0.11135259538289613 + 0.0im, 0.0 - 0.08896500325057631im, 0.0 + 0.0im, 0.0 + 0.0im, 0.0716561955764269 + 0.0im, -0.021183204656883108 + 0.0im, 0.06143520825588525 + 0.0im, 0.0 + 0.0im, 0.0 + 0.0im, 0.0 + 0.0im  …  0.0 + 0.0im, 0.011091173855350982 + 0.0im, 0.0 + 0.0im, 0.0 + 0.0im, 0.009191984658019191 + 0.0im, 0.03211000761818142 + 0.0im, 0.0 + 0.0im, 0.0 + 0.0im, 0.0 + 0.0im, 0.008222179187137498 + 0.0im]\n",
       " [0.14433925895296262 + 0.0im, 0.0 - 0.040256502139090905im, 0.0 + 0.0im, 0.0 + 0.0im, 0.12087098297356812 + 0.0im, -0.002958826083930502 + 0.0im, 0.0747113508815363 + 0.0im, 0.0 + 0.0im, 0.0 + 0.0im, 0.0 + 0.0im  …  0.0 + 0.0im, 0.016161630586979905 + 0.0im, 0.0 + 0.0im, 0.0 + 0.0im, -0.006621038569913271 + 0.0im, 0.032283347907169135 + 0.0im, 0.0 + 0.0im, 0.0 + 0.0im, 0.0 + 0.0im, -0.005136201076840027 + 0.0im]\n",
       " [0.12297568043821684 + 0.0im, 0.0 + 0.013297699800154661im, 0.0 + 0.0im, 0.0 + 0.0im, 0.08786209549820732 + 0.0im, 0.017770738163778617 + 0.0im, 0.0535158141969502 + 0.0im, 0.0 + 0.0im, 0.0 + 0.0im, 0.0 + 0.0im  …  0.0 + 0.0im, 0.011175698768910553 + 0.0im, 0.0 + 0.0im, 0.0 + 0.0im, -0.0007356259822010993 + 0.0im, 0.0036493193097602095 + 0.0im, 0.0 + 0.0im, 0.0 + 0.0im, 0.0 + 0.0im, -0.0005436127830126976 + 0.0im]\n",
       " [0.06359582458374104 + 0.0im, 0.0 + 0.05796983343946227im, 0.0 + 0.0im, 0.0 + 0.0im, 0.03813458462146334 + 0.0im, 0.024427816936237773 + 0.0im, 0.012256554039457886 + 0.0im, 0.0 + 0.0im, 0.0 + 0.0im, 0.0 + 0.0im  …  0.0 + 0.0im, 0.0034769719516725434 + 0.0im, 0.0 + 0.0im, 0.0 + 0.0im, 0.007389416499727984 + 0.0im, -0.026923039037493848 + 0.0im, 0.0 + 0.0im, 0.0 + 0.0im, 0.0 + 0.0im, 0.0063526386630822496 + 0.0im]\n",
       " [-0.00681269517212713 + 0.0im, 0.0 + 0.04178949357124014im, 0.0 + 0.0im, 0.0 + 0.0im, 0.09576110542019836 + 0.0im, 0.0006342534755137033 + 0.0im, -0.03212364362234685 + 0.0im, 0.0 + 0.0im, 0.0 + 0.0im, 0.0 + 0.0im  …  0.0 + 0.0im, -0.00014554972655551651 + 0.0im, 0.0 + 0.0im, 0.0 + 0.0im, -0.001058817105601528 + 0.0im, -0.0564338126155119 + 0.0im, 0.0 + 0.0im, 0.0 + 0.0im, 0.0 + 0.0im, 0.003320365933127631 + 0.0im]\n",
       " [-0.003970635910508787 + 0.0im, 0.0 - 0.043686443254035055im, 0.0 + 0.0im, 0.0 + 0.0im, 0.1332771325746519 + 0.0im, -0.012430256517802253 + 0.0im, -0.022582715683142296 + 0.0im, 0.0 + 0.0im, 0.0 + 0.0im, 0.0 + 0.0im  …  0.0 + 0.0im, -0.00010635746607475131 + 0.0im, 0.0 + 0.0im, 0.0 + 0.0im, -0.00044795188528793696 + 0.0im, -0.05682550413076596 + 0.0im, 0.0 + 0.0im, 0.0 + 0.0im, 0.0 + 0.0im, 0.0030220223087134928 + 0.0im]\n",
       " [0.05609108770195553 + 0.0im, 0.0 - 0.07129062555551273im, 0.0 + 0.0im, 0.0 + 0.0im, 0.0646792549233529 + 0.0im, 0.016045750084221946 + 0.0im, 0.030208732593985457 + 0.0im, 0.0 + 0.0im, 0.0 + 0.0im, 0.0 + 0.0im  …  0.0 + 0.0im, 0.0037651017905646848 + 0.0im, 0.0 + 0.0im, 0.0 + 0.0im, 0.004195514193085347 + 0.0im, -0.0132115460997807 + 0.0im, 0.0 + 0.0im, 0.0 + 0.0im, 0.0 + 0.0im, 0.005020796537373854 + 0.0im]\n",
       " [0.08320952183363171 + 0.0im, 0.0 - 0.01489602215711606im, 0.0 + 0.0im, 0.0 + 0.0im, 0.04110343914793814 + 0.0im, 0.02664708125495345 + 0.0im, 0.06540363966936692 + 0.0im, 0.0 + 0.0im, 0.0 + 0.0im, 0.0 + 0.0im  …  0.0 + 0.0im, 0.008710952465760596 + 0.0im, 0.0 + 0.0im, 0.0 + 0.0im, 0.001248274301354291 + 0.0im, 0.029192710976850354 + 0.0im, 0.0 + 0.0im, 0.0 + 0.0im, 0.0 + 0.0im, 0.001570452775911439 + 0.0im]\n",
       " [0.05686817280792118 + 0.0im, 0.0 + 0.01961363585135319im, 0.0 + 0.0im, 0.0 + 0.0im, 0.09471593713659007 + 0.0im, 0.004034111078618768 + 0.0im, 0.05936199335686102 + 0.0im, 0.0 + 0.0im, 0.0 + 0.0im, 0.0 + 0.0im  …  0.0 + 0.0im, 0.0062193226248460996 + 0.0im, 0.0 + 0.0im, 0.0 + 0.0im, -0.0020098247082717276 + 0.0im, 0.02939116589890388 + 0.0im, 0.0 + 0.0im, 0.0 + 0.0im, 0.0 + 0.0im, -0.003865162589607384 + 0.0im]\n",
       " [0.03395382745373583 + 0.0im, 0.0 + 0.012507083215899871im, 0.0 + 0.0im, 0.0 + 0.0im, 0.080932644312469 + 0.0im, 0.007272599513694647 + 0.0im, 0.034181270024443156 + 0.0im, 0.0 + 0.0im, 0.0 + 0.0im, 0.0 + 0.0im  …  0.0 + 0.0im, 0.003061843348621719 + 0.0im, 0.0 + 0.0im, 0.0 + 0.0im, 0.00038698790737472634 + 0.0im, 0.005946134320792009 + 0.0im, 0.0 + 0.0im, 0.0 + 0.0im, 0.0 + 0.0im, 0.0010277363581479098 + 0.0im]"
      ]
     },
     "execution_count": 44,
     "metadata": {},
     "output_type": "execute_result"
    }
   ],
   "source": [
    "sol2 = solve(prob2)"
   ]
  },
  {
   "cell_type": "code",
   "execution_count": null,
   "metadata": {},
   "outputs": [],
   "source": [
    "using Plots"
   ]
  },
  {
   "cell_type": "code",
   "execution_count": null,
   "metadata": {},
   "outputs": [
    {
     "data": {
      "image/svg+xml": "<?xml version=\"1.0\" encoding=\"utf-8\"?>\n<svg xmlns=\"http://www.w3.org/2000/svg\" xmlns:xlink=\"http://www.w3.org/1999/xlink\" width=\"600\" height=\"400\" viewBox=\"0 0 2400 1600\">\n<defs>\n  <clipPath id=\"clip610\">\n    <rect x=\"0\" y=\"0\" width=\"2400\" height=\"1600\"/>\n  </clipPath>\n</defs>\n<path clip-path=\"url(#clip610)\" d=\"\nM0 1600 L2400 1600 L2400 0 L0 0  Z\n  \" fill=\"#ffffff\" fill-rule=\"evenodd\" fill-opacity=\"1\"/>\n<defs>\n  <clipPath id=\"clip611\">\n    <rect x=\"480\" y=\"0\" width=\"1681\" height=\"1600\"/>\n  </clipPath>\n</defs>\n<path clip-path=\"url(#clip610)\" d=\"\nM186.274 1486.45 L2352.76 1486.45 L2352.76 47.2441 L186.274 47.2441  Z\n  \" fill=\"#ffffff\" fill-rule=\"evenodd\" fill-opacity=\"1\"/>\n<defs>\n  <clipPath id=\"clip612\">\n    <rect x=\"186\" y=\"47\" width=\"2167\" height=\"1440\"/>\n  </clipPath>\n</defs>\n<polyline clip-path=\"url(#clip612)\" style=\"stroke:#000000; stroke-linecap:butt; stroke-linejoin:round; stroke-width:2; stroke-opacity:0.1; fill:none\" points=\"\n  247.59,1486.45 247.59,47.2441 \n  \"/>\n<polyline clip-path=\"url(#clip612)\" style=\"stroke:#000000; stroke-linecap:butt; stroke-linejoin:round; stroke-width:2; stroke-opacity:0.1; fill:none\" points=\"\n  656.36,1486.45 656.36,47.2441 \n  \"/>\n<polyline clip-path=\"url(#clip612)\" style=\"stroke:#000000; stroke-linecap:butt; stroke-linejoin:round; stroke-width:2; stroke-opacity:0.1; fill:none\" points=\"\n  1065.13,1486.45 1065.13,47.2441 \n  \"/>\n<polyline clip-path=\"url(#clip612)\" style=\"stroke:#000000; stroke-linecap:butt; stroke-linejoin:round; stroke-width:2; stroke-opacity:0.1; fill:none\" points=\"\n  1473.9,1486.45 1473.9,47.2441 \n  \"/>\n<polyline clip-path=\"url(#clip612)\" style=\"stroke:#000000; stroke-linecap:butt; stroke-linejoin:round; stroke-width:2; stroke-opacity:0.1; fill:none\" points=\"\n  1882.67,1486.45 1882.67,47.2441 \n  \"/>\n<polyline clip-path=\"url(#clip612)\" style=\"stroke:#000000; stroke-linecap:butt; stroke-linejoin:round; stroke-width:2; stroke-opacity:0.1; fill:none\" points=\"\n  2291.44,1486.45 2291.44,47.2441 \n  \"/>\n<polyline clip-path=\"url(#clip610)\" style=\"stroke:#000000; stroke-linecap:butt; stroke-linejoin:round; stroke-width:4; stroke-opacity:1; fill:none\" points=\"\n  186.274,1486.45 2352.76,1486.45 \n  \"/>\n<polyline clip-path=\"url(#clip610)\" style=\"stroke:#000000; stroke-linecap:butt; stroke-linejoin:round; stroke-width:4; stroke-opacity:1; fill:none\" points=\"\n  247.59,1486.45 247.59,1467.55 \n  \"/>\n<polyline clip-path=\"url(#clip610)\" style=\"stroke:#000000; stroke-linecap:butt; stroke-linejoin:round; stroke-width:4; stroke-opacity:1; fill:none\" points=\"\n  656.36,1486.45 656.36,1467.55 \n  \"/>\n<polyline clip-path=\"url(#clip610)\" style=\"stroke:#000000; stroke-linecap:butt; stroke-linejoin:round; stroke-width:4; stroke-opacity:1; fill:none\" points=\"\n  1065.13,1486.45 1065.13,1467.55 \n  \"/>\n<polyline clip-path=\"url(#clip610)\" style=\"stroke:#000000; stroke-linecap:butt; stroke-linejoin:round; stroke-width:4; stroke-opacity:1; fill:none\" points=\"\n  1473.9,1486.45 1473.9,1467.55 \n  \"/>\n<polyline clip-path=\"url(#clip610)\" style=\"stroke:#000000; stroke-linecap:butt; stroke-linejoin:round; stroke-width:4; stroke-opacity:1; fill:none\" points=\"\n  1882.67,1486.45 1882.67,1467.55 \n  \"/>\n<polyline clip-path=\"url(#clip610)\" style=\"stroke:#000000; stroke-linecap:butt; stroke-linejoin:round; stroke-width:4; stroke-opacity:1; fill:none\" points=\"\n  2291.44,1486.45 2291.44,1467.55 \n  \"/>\n<path clip-path=\"url(#clip610)\" d=\"M247.59 1517.37 Q243.978 1517.37 242.15 1520.93 Q240.344 1524.47 240.344 1531.6 Q240.344 1538.71 242.15 1542.27 Q243.978 1545.82 247.59 1545.82 Q251.224 1545.82 253.029 1542.27 Q254.858 1538.71 254.858 1531.6 Q254.858 1524.47 253.029 1520.93 Q251.224 1517.37 247.59 1517.37 M247.59 1513.66 Q253.4 1513.66 256.455 1518.27 Q259.534 1522.85 259.534 1531.6 Q259.534 1540.33 256.455 1544.94 Q253.4 1549.52 247.59 1549.52 Q241.779 1549.52 238.701 1544.94 Q235.645 1540.33 235.645 1531.6 Q235.645 1522.85 238.701 1518.27 Q241.779 1513.66 247.59 1513.66 Z\" fill=\"#000000\" fill-rule=\"evenodd\" fill-opacity=\"1\" /><path clip-path=\"url(#clip610)\" d=\"M646.742 1544.91 L654.381 1544.91 L654.381 1518.55 L646.07 1520.21 L646.07 1515.95 L654.334 1514.29 L659.01 1514.29 L659.01 1544.91 L666.649 1544.91 L666.649 1548.85 L646.742 1548.85 L646.742 1544.91 Z\" fill=\"#000000\" fill-rule=\"evenodd\" fill-opacity=\"1\" /><path clip-path=\"url(#clip610)\" d=\"M1059.78 1544.91 L1076.1 1544.91 L1076.1 1548.85 L1054.16 1548.85 L1054.16 1544.91 Q1056.82 1542.16 1061.4 1537.53 Q1066.01 1532.88 1067.19 1531.53 Q1069.44 1529.01 1070.32 1527.27 Q1071.22 1525.51 1071.22 1523.82 Q1071.22 1521.07 1069.27 1519.33 Q1067.35 1517.6 1064.25 1517.6 Q1062.05 1517.6 1059.6 1518.36 Q1057.17 1519.13 1054.39 1520.68 L1054.39 1515.95 Q1057.21 1514.82 1059.67 1514.24 Q1062.12 1513.66 1064.16 1513.66 Q1069.53 1513.66 1072.72 1516.35 Q1075.92 1519.03 1075.92 1523.52 Q1075.92 1525.65 1075.11 1527.57 Q1074.32 1529.47 1072.21 1532.07 Q1071.63 1532.74 1068.53 1535.95 Q1065.43 1539.15 1059.78 1544.91 Z\" fill=\"#000000\" fill-rule=\"evenodd\" fill-opacity=\"1\" /><path clip-path=\"url(#clip610)\" d=\"M1478.15 1530.21 Q1481.5 1530.93 1483.38 1533.2 Q1485.28 1535.47 1485.28 1538.8 Q1485.28 1543.92 1481.76 1546.72 Q1478.24 1549.52 1471.76 1549.52 Q1469.58 1549.52 1467.27 1549.08 Q1464.98 1548.66 1462.52 1547.81 L1462.52 1543.29 Q1464.47 1544.43 1466.78 1545.01 Q1469.1 1545.58 1471.62 1545.58 Q1476.02 1545.58 1478.31 1543.85 Q1480.62 1542.11 1480.62 1538.8 Q1480.62 1535.75 1478.47 1534.03 Q1476.34 1532.3 1472.52 1532.3 L1468.49 1532.3 L1468.49 1528.45 L1472.71 1528.45 Q1476.16 1528.45 1477.99 1527.09 Q1479.81 1525.7 1479.81 1523.11 Q1479.81 1520.45 1477.92 1519.03 Q1476.04 1517.6 1472.52 1517.6 Q1470.6 1517.6 1468.4 1518.01 Q1466.2 1518.43 1463.56 1519.31 L1463.56 1515.14 Q1466.23 1514.4 1468.54 1514.03 Q1470.88 1513.66 1472.94 1513.66 Q1478.26 1513.66 1481.37 1516.09 Q1484.47 1518.5 1484.47 1522.62 Q1484.47 1525.49 1482.82 1527.48 Q1481.18 1529.45 1478.15 1530.21 Z\" fill=\"#000000\" fill-rule=\"evenodd\" fill-opacity=\"1\" /><path clip-path=\"url(#clip610)\" d=\"M1885.68 1518.36 L1873.87 1536.81 L1885.68 1536.81 L1885.68 1518.36 M1884.45 1514.29 L1890.33 1514.29 L1890.33 1536.81 L1895.26 1536.81 L1895.26 1540.7 L1890.33 1540.7 L1890.33 1548.85 L1885.68 1548.85 L1885.68 1540.7 L1870.08 1540.7 L1870.08 1536.19 L1884.45 1514.29 Z\" fill=\"#000000\" fill-rule=\"evenodd\" fill-opacity=\"1\" /><path clip-path=\"url(#clip610)\" d=\"M2281.72 1514.29 L2300.07 1514.29 L2300.07 1518.22 L2286 1518.22 L2286 1526.7 Q2287.02 1526.35 2288.04 1526.19 Q2289.06 1526 2290.07 1526 Q2295.86 1526 2299.24 1529.17 Q2302.62 1532.34 2302.62 1537.76 Q2302.62 1543.34 2299.15 1546.44 Q2295.68 1549.52 2289.36 1549.52 Q2287.18 1549.52 2284.91 1549.15 Q2282.67 1548.78 2280.26 1548.04 L2280.26 1543.34 Q2282.34 1544.47 2284.57 1545.03 Q2286.79 1545.58 2289.26 1545.58 Q2293.27 1545.58 2295.61 1543.48 Q2297.94 1541.37 2297.94 1537.76 Q2297.94 1534.15 2295.61 1532.04 Q2293.27 1529.94 2289.26 1529.94 Q2287.39 1529.94 2285.51 1530.35 Q2283.66 1530.77 2281.72 1531.65 L2281.72 1514.29 Z\" fill=\"#000000\" fill-rule=\"evenodd\" fill-opacity=\"1\" /><polyline clip-path=\"url(#clip612)\" style=\"stroke:#000000; stroke-linecap:butt; stroke-linejoin:round; stroke-width:2; stroke-opacity:0.1; fill:none\" points=\"\n  186.274,1426 2352.76,1426 \n  \"/>\n<polyline clip-path=\"url(#clip612)\" style=\"stroke:#000000; stroke-linecap:butt; stroke-linejoin:round; stroke-width:2; stroke-opacity:0.1; fill:none\" points=\"\n  186.274,1091.49 2352.76,1091.49 \n  \"/>\n<polyline clip-path=\"url(#clip612)\" style=\"stroke:#000000; stroke-linecap:butt; stroke-linejoin:round; stroke-width:2; stroke-opacity:0.1; fill:none\" points=\"\n  186.274,756.987 2352.76,756.987 \n  \"/>\n<polyline clip-path=\"url(#clip612)\" style=\"stroke:#000000; stroke-linecap:butt; stroke-linejoin:round; stroke-width:2; stroke-opacity:0.1; fill:none\" points=\"\n  186.274,422.481 2352.76,422.481 \n  \"/>\n<polyline clip-path=\"url(#clip612)\" style=\"stroke:#000000; stroke-linecap:butt; stroke-linejoin:round; stroke-width:2; stroke-opacity:0.1; fill:none\" points=\"\n  186.274,87.9763 2352.76,87.9763 \n  \"/>\n<polyline clip-path=\"url(#clip610)\" style=\"stroke:#000000; stroke-linecap:butt; stroke-linejoin:round; stroke-width:4; stroke-opacity:1; fill:none\" points=\"\n  186.274,1486.45 186.274,47.2441 \n  \"/>\n<polyline clip-path=\"url(#clip610)\" style=\"stroke:#000000; stroke-linecap:butt; stroke-linejoin:round; stroke-width:4; stroke-opacity:1; fill:none\" points=\"\n  186.274,1426 205.172,1426 \n  \"/>\n<polyline clip-path=\"url(#clip610)\" style=\"stroke:#000000; stroke-linecap:butt; stroke-linejoin:round; stroke-width:4; stroke-opacity:1; fill:none\" points=\"\n  186.274,1091.49 205.172,1091.49 \n  \"/>\n<polyline clip-path=\"url(#clip610)\" style=\"stroke:#000000; stroke-linecap:butt; stroke-linejoin:round; stroke-width:4; stroke-opacity:1; fill:none\" points=\"\n  186.274,756.987 205.172,756.987 \n  \"/>\n<polyline clip-path=\"url(#clip610)\" style=\"stroke:#000000; stroke-linecap:butt; stroke-linejoin:round; stroke-width:4; stroke-opacity:1; fill:none\" points=\"\n  186.274,422.481 205.172,422.481 \n  \"/>\n<polyline clip-path=\"url(#clip610)\" style=\"stroke:#000000; stroke-linecap:butt; stroke-linejoin:round; stroke-width:4; stroke-opacity:1; fill:none\" points=\"\n  186.274,87.9763 205.172,87.9763 \n  \"/>\n<path clip-path=\"url(#clip610)\" d=\"M62.9365 1411.8 Q59.3254 1411.8 57.4967 1415.36 Q55.6912 1418.9 55.6912 1426.03 Q55.6912 1433.14 57.4967 1436.7 Q59.3254 1440.24 62.9365 1440.24 Q66.5707 1440.24 68.3763 1436.7 Q70.205 1433.14 70.205 1426.03 Q70.205 1418.9 68.3763 1415.36 Q66.5707 1411.8 62.9365 1411.8 M62.9365 1408.09 Q68.7467 1408.09 71.8022 1412.7 Q74.8809 1417.28 74.8809 1426.03 Q74.8809 1434.76 71.8022 1439.37 Q68.7467 1443.95 62.9365 1443.95 Q57.1264 1443.95 54.0477 1439.37 Q50.9921 1434.76 50.9921 1426.03 Q50.9921 1417.28 54.0477 1412.7 Q57.1264 1408.09 62.9365 1408.09 Z\" fill=\"#000000\" fill-rule=\"evenodd\" fill-opacity=\"1\" /><path clip-path=\"url(#clip610)\" d=\"M83.0984 1437.4 L87.9827 1437.4 L87.9827 1443.28 L83.0984 1443.28 L83.0984 1437.4 Z\" fill=\"#000000\" fill-rule=\"evenodd\" fill-opacity=\"1\" /><path clip-path=\"url(#clip610)\" d=\"M108.168 1411.8 Q104.557 1411.8 102.728 1415.36 Q100.922 1418.9 100.922 1426.03 Q100.922 1433.14 102.728 1436.7 Q104.557 1440.24 108.168 1440.24 Q111.802 1440.24 113.608 1436.7 Q115.436 1433.14 115.436 1426.03 Q115.436 1418.9 113.608 1415.36 Q111.802 1411.8 108.168 1411.8 M108.168 1408.09 Q113.978 1408.09 117.033 1412.7 Q120.112 1417.28 120.112 1426.03 Q120.112 1434.76 117.033 1439.37 Q113.978 1443.95 108.168 1443.95 Q102.358 1443.95 99.2789 1439.37 Q96.2234 1434.76 96.2234 1426.03 Q96.2234 1417.28 99.2789 1412.7 Q102.358 1408.09 108.168 1408.09 Z\" fill=\"#000000\" fill-rule=\"evenodd\" fill-opacity=\"1\" /><path clip-path=\"url(#clip610)\" d=\"M138.33 1411.8 Q134.719 1411.8 132.89 1415.36 Q131.084 1418.9 131.084 1426.03 Q131.084 1433.14 132.89 1436.7 Q134.719 1440.24 138.33 1440.24 Q141.964 1440.24 143.769 1436.7 Q145.598 1433.14 145.598 1426.03 Q145.598 1418.9 143.769 1415.36 Q141.964 1411.8 138.33 1411.8 M138.33 1408.09 Q144.14 1408.09 147.195 1412.7 Q150.274 1417.28 150.274 1426.03 Q150.274 1434.76 147.195 1439.37 Q144.14 1443.95 138.33 1443.95 Q132.519 1443.95 129.441 1439.37 Q126.385 1434.76 126.385 1426.03 Q126.385 1417.28 129.441 1412.7 Q132.519 1408.09 138.33 1408.09 Z\" fill=\"#000000\" fill-rule=\"evenodd\" fill-opacity=\"1\" /><path clip-path=\"url(#clip610)\" d=\"M63.9319 1077.29 Q60.3208 1077.29 58.4921 1080.86 Q56.6865 1084.4 56.6865 1091.53 Q56.6865 1098.63 58.4921 1102.2 Q60.3208 1105.74 63.9319 1105.74 Q67.5661 1105.74 69.3717 1102.2 Q71.2004 1098.63 71.2004 1091.53 Q71.2004 1084.4 69.3717 1080.86 Q67.5661 1077.29 63.9319 1077.29 M63.9319 1073.59 Q69.742 1073.59 72.7976 1078.19 Q75.8763 1082.78 75.8763 1091.53 Q75.8763 1100.25 72.7976 1104.86 Q69.742 1109.44 63.9319 1109.44 Q58.1217 1109.44 55.043 1104.86 Q51.9875 1100.25 51.9875 1091.53 Q51.9875 1082.78 55.043 1078.19 Q58.1217 1073.59 63.9319 1073.59 Z\" fill=\"#000000\" fill-rule=\"evenodd\" fill-opacity=\"1\" /><path clip-path=\"url(#clip610)\" d=\"M84.0938 1102.89 L88.978 1102.89 L88.978 1108.77 L84.0938 1108.77 L84.0938 1102.89 Z\" fill=\"#000000\" fill-rule=\"evenodd\" fill-opacity=\"1\" /><path clip-path=\"url(#clip610)\" d=\"M103.191 1104.84 L119.51 1104.84 L119.51 1108.77 L97.566 1108.77 L97.566 1104.84 Q100.228 1102.08 104.811 1097.45 Q109.418 1092.8 110.598 1091.46 Q112.844 1088.93 113.723 1087.2 Q114.626 1085.44 114.626 1083.75 Q114.626 1080.99 112.682 1079.26 Q110.76 1077.52 107.658 1077.52 Q105.459 1077.52 103.006 1078.29 Q100.575 1079.05 97.7974 1080.6 L97.7974 1075.88 Q100.621 1074.74 103.075 1074.17 Q105.529 1073.59 107.566 1073.59 Q112.936 1073.59 116.131 1076.27 Q119.325 1078.96 119.325 1083.45 Q119.325 1085.58 118.515 1087.5 Q117.728 1089.4 115.621 1091.99 Q115.043 1092.66 111.941 1095.88 Q108.839 1099.07 103.191 1104.84 Z\" fill=\"#000000\" fill-rule=\"evenodd\" fill-opacity=\"1\" /><path clip-path=\"url(#clip610)\" d=\"M129.371 1074.21 L147.728 1074.21 L147.728 1078.15 L133.654 1078.15 L133.654 1086.62 Q134.672 1086.27 135.691 1086.11 Q136.709 1085.92 137.728 1085.92 Q143.515 1085.92 146.894 1089.1 Q150.274 1092.27 150.274 1097.68 Q150.274 1103.26 146.802 1106.36 Q143.33 1109.44 137.01 1109.44 Q134.834 1109.44 132.566 1109.07 Q130.32 1108.7 127.913 1107.96 L127.913 1103.26 Q129.996 1104.4 132.219 1104.95 Q134.441 1105.51 136.918 1105.51 Q140.922 1105.51 143.26 1103.4 Q145.598 1101.3 145.598 1097.68 Q145.598 1094.07 143.26 1091.97 Q140.922 1089.86 136.918 1089.86 Q135.043 1089.86 133.168 1090.28 Q131.316 1090.69 129.371 1091.57 L129.371 1074.21 Z\" fill=\"#000000\" fill-rule=\"evenodd\" fill-opacity=\"1\" /><path clip-path=\"url(#clip610)\" d=\"M62.9365 742.785 Q59.3254 742.785 57.4967 746.35 Q55.6912 749.892 55.6912 757.021 Q55.6912 764.128 57.4967 767.693 Q59.3254 771.234 62.9365 771.234 Q66.5707 771.234 68.3763 767.693 Q70.205 764.128 70.205 757.021 Q70.205 749.892 68.3763 746.35 Q66.5707 742.785 62.9365 742.785 M62.9365 739.082 Q68.7467 739.082 71.8022 743.688 Q74.8809 748.271 74.8809 757.021 Q74.8809 765.748 71.8022 770.355 Q68.7467 774.938 62.9365 774.938 Q57.1264 774.938 54.0477 770.355 Q50.9921 765.748 50.9921 757.021 Q50.9921 748.271 54.0477 743.688 Q57.1264 739.082 62.9365 739.082 Z\" fill=\"#000000\" fill-rule=\"evenodd\" fill-opacity=\"1\" /><path clip-path=\"url(#clip610)\" d=\"M83.0984 768.387 L87.9827 768.387 L87.9827 774.267 L83.0984 774.267 L83.0984 768.387 Z\" fill=\"#000000\" fill-rule=\"evenodd\" fill-opacity=\"1\" /><path clip-path=\"url(#clip610)\" d=\"M98.2141 739.707 L116.57 739.707 L116.57 743.642 L102.496 743.642 L102.496 752.114 Q103.515 751.767 104.534 751.605 Q105.552 751.42 106.571 751.42 Q112.358 751.42 115.737 754.591 Q119.117 757.762 119.117 763.179 Q119.117 768.757 115.645 771.859 Q112.172 774.938 105.853 774.938 Q103.677 774.938 101.409 774.568 Q99.1632 774.197 96.7558 773.456 L96.7558 768.757 Q98.8391 769.892 101.061 770.447 Q103.284 771.003 105.76 771.003 Q109.765 771.003 112.103 768.896 Q114.441 766.79 114.441 763.179 Q114.441 759.568 112.103 757.461 Q109.765 755.355 105.76 755.355 Q103.885 755.355 102.01 755.771 Q100.159 756.188 98.2141 757.068 L98.2141 739.707 Z\" fill=\"#000000\" fill-rule=\"evenodd\" fill-opacity=\"1\" /><path clip-path=\"url(#clip610)\" d=\"M138.33 742.785 Q134.719 742.785 132.89 746.35 Q131.084 749.892 131.084 757.021 Q131.084 764.128 132.89 767.693 Q134.719 771.234 138.33 771.234 Q141.964 771.234 143.769 767.693 Q145.598 764.128 145.598 757.021 Q145.598 749.892 143.769 746.35 Q141.964 742.785 138.33 742.785 M138.33 739.082 Q144.14 739.082 147.195 743.688 Q150.274 748.271 150.274 757.021 Q150.274 765.748 147.195 770.355 Q144.14 774.938 138.33 774.938 Q132.519 774.938 129.441 770.355 Q126.385 765.748 126.385 757.021 Q126.385 748.271 129.441 743.688 Q132.519 739.082 138.33 739.082 Z\" fill=\"#000000\" fill-rule=\"evenodd\" fill-opacity=\"1\" /><path clip-path=\"url(#clip610)\" d=\"M63.9319 408.28 Q60.3208 408.28 58.4921 411.845 Q56.6865 415.387 56.6865 422.516 Q56.6865 429.623 58.4921 433.187 Q60.3208 436.729 63.9319 436.729 Q67.5661 436.729 69.3717 433.187 Q71.2004 429.623 71.2004 422.516 Q71.2004 415.387 69.3717 411.845 Q67.5661 408.28 63.9319 408.28 M63.9319 404.576 Q69.742 404.576 72.7976 409.183 Q75.8763 413.766 75.8763 422.516 Q75.8763 431.243 72.7976 435.849 Q69.742 440.433 63.9319 440.433 Q58.1217 440.433 55.043 435.849 Q51.9875 431.243 51.9875 422.516 Q51.9875 413.766 55.043 409.183 Q58.1217 404.576 63.9319 404.576 Z\" fill=\"#000000\" fill-rule=\"evenodd\" fill-opacity=\"1\" /><path clip-path=\"url(#clip610)\" d=\"M84.0938 433.882 L88.978 433.882 L88.978 439.761 L84.0938 439.761 L84.0938 433.882 Z\" fill=\"#000000\" fill-rule=\"evenodd\" fill-opacity=\"1\" /><path clip-path=\"url(#clip610)\" d=\"M97.9826 405.201 L120.205 405.201 L120.205 407.192 L107.658 439.761 L102.774 439.761 L114.58 409.137 L97.9826 409.137 L97.9826 405.201 Z\" fill=\"#000000\" fill-rule=\"evenodd\" fill-opacity=\"1\" /><path clip-path=\"url(#clip610)\" d=\"M129.371 405.201 L147.728 405.201 L147.728 409.137 L133.654 409.137 L133.654 417.609 Q134.672 417.262 135.691 417.1 Q136.709 416.914 137.728 416.914 Q143.515 416.914 146.894 420.086 Q150.274 423.257 150.274 428.674 Q150.274 434.252 146.802 437.354 Q143.33 440.433 137.01 440.433 Q134.834 440.433 132.566 440.062 Q130.32 439.692 127.913 438.951 L127.913 434.252 Q129.996 435.386 132.219 435.942 Q134.441 436.498 136.918 436.498 Q140.922 436.498 143.26 434.391 Q145.598 432.285 145.598 428.674 Q145.598 425.062 143.26 422.956 Q140.922 420.85 136.918 420.85 Q135.043 420.85 133.168 421.266 Q131.316 421.683 129.371 422.562 L129.371 405.201 Z\" fill=\"#000000\" fill-rule=\"evenodd\" fill-opacity=\"1\" /><path clip-path=\"url(#clip610)\" d=\"M53.7467 101.321 L61.3856 101.321 L61.3856 74.9555 L53.0754 76.6222 L53.0754 72.3629 L61.3393 70.6963 L66.0152 70.6963 L66.0152 101.321 L73.654 101.321 L73.654 105.256 L53.7467 105.256 L53.7467 101.321 Z\" fill=\"#000000\" fill-rule=\"evenodd\" fill-opacity=\"1\" /><path clip-path=\"url(#clip610)\" d=\"M83.0984 99.3767 L87.9827 99.3767 L87.9827 105.256 L83.0984 105.256 L83.0984 99.3767 Z\" fill=\"#000000\" fill-rule=\"evenodd\" fill-opacity=\"1\" /><path clip-path=\"url(#clip610)\" d=\"M108.168 73.775 Q104.557 73.775 102.728 77.3398 Q100.922 80.8814 100.922 88.011 Q100.922 95.1174 102.728 98.6822 Q104.557 102.224 108.168 102.224 Q111.802 102.224 113.608 98.6822 Q115.436 95.1174 115.436 88.011 Q115.436 80.8814 113.608 77.3398 Q111.802 73.775 108.168 73.775 M108.168 70.0713 Q113.978 70.0713 117.033 74.6777 Q120.112 79.261 120.112 88.011 Q120.112 96.7378 117.033 101.344 Q113.978 105.928 108.168 105.928 Q102.358 105.928 99.2789 101.344 Q96.2234 96.7378 96.2234 88.011 Q96.2234 79.261 99.2789 74.6777 Q102.358 70.0713 108.168 70.0713 Z\" fill=\"#000000\" fill-rule=\"evenodd\" fill-opacity=\"1\" /><path clip-path=\"url(#clip610)\" d=\"M138.33 73.775 Q134.719 73.775 132.89 77.3398 Q131.084 80.8814 131.084 88.011 Q131.084 95.1174 132.89 98.6822 Q134.719 102.224 138.33 102.224 Q141.964 102.224 143.769 98.6822 Q145.598 95.1174 145.598 88.011 Q145.598 80.8814 143.769 77.3398 Q141.964 73.775 138.33 73.775 M138.33 70.0713 Q144.14 70.0713 147.195 74.6777 Q150.274 79.261 150.274 88.011 Q150.274 96.7378 147.195 101.344 Q144.14 105.928 138.33 105.928 Q132.519 105.928 129.441 101.344 Q126.385 96.7378 126.385 88.011 Q126.385 79.261 129.441 74.6777 Q132.519 70.0713 138.33 70.0713 Z\" fill=\"#000000\" fill-rule=\"evenodd\" fill-opacity=\"1\" /><polyline clip-path=\"url(#clip612)\" style=\"stroke:#009af9; stroke-linecap:butt; stroke-linejoin:round; stroke-width:4; stroke-opacity:1; fill:none\" points=\"\n  247.59,87.9763 247.794,88.6458 249.196,93.3084 258.185,125.729 290.32,273.841 338.24,561.133 395.569,927.657 462.955,1247.5 530.966,1378.69 620.748,1338.65 \n  701.292,1183.32 803.676,945.873 885.689,893.75 982.402,1062.33 1076.51,1315.25 1179.8,1445.72 1274.56,1385.3 1378.56,1277 1482.81,1232.87 1588.34,1261.45 \n  1687.11,1340.9 1797.8,1435.11 1900.19,1431.31 2001.76,1350.95 2103.52,1314.66 2207.37,1349.91 2291.44,1380.57 \n  \"/>\n<path clip-path=\"url(#clip610)\" d=\"\nM1987.39 198.898 L2280.54 198.898 L2280.54 95.2176 L1987.39 95.2176  Z\n  \" fill=\"#ffffff\" fill-rule=\"evenodd\" fill-opacity=\"1\"/>\n<polyline clip-path=\"url(#clip610)\" style=\"stroke:#000000; stroke-linecap:butt; stroke-linejoin:round; stroke-width:4; stroke-opacity:1; fill:none\" points=\"\n  1987.39,198.898 2280.54,198.898 2280.54,95.2176 1987.39,95.2176 1987.39,198.898 \n  \"/>\n<polyline clip-path=\"url(#clip610)\" style=\"stroke:#009af9; stroke-linecap:butt; stroke-linejoin:round; stroke-width:4; stroke-opacity:1; fill:none\" points=\"\n  2011.46,147.058 2155.89,147.058 \n  \"/>\n<path clip-path=\"url(#clip610)\" d=\"M2193.81 166.745 Q2192 171.375 2190.29 172.787 Q2188.58 174.199 2185.71 174.199 L2182.3 174.199 L2182.3 170.634 L2184.8 170.634 Q2186.56 170.634 2187.53 169.8 Q2188.51 168.967 2189.69 165.865 L2190.45 163.921 L2179.97 138.412 L2184.48 138.412 L2192.58 158.689 L2200.68 138.412 L2205.2 138.412 L2193.81 166.745 Z\" fill=\"#000000\" fill-rule=\"evenodd\" fill-opacity=\"1\" /><path clip-path=\"url(#clip610)\" d=\"M2212.49 160.402 L2220.13 160.402 L2220.13 134.037 L2211.82 135.703 L2211.82 131.444 L2220.08 129.778 L2224.76 129.778 L2224.76 160.402 L2232.4 160.402 L2232.4 164.338 L2212.49 164.338 L2212.49 160.402 Z\" fill=\"#000000\" fill-rule=\"evenodd\" fill-opacity=\"1\" /></svg>\n"
     },
     "execution_count": 46,
     "metadata": {},
     "output_type": "execute_result"
    }
   ],
   "source": [
    "plot(sol2.t,real.(sol2[σ2(2,2,2)]))"
   ]
  }
 ],
 "metadata": {
  "kernelspec": {
   "display_name": "Julia 1.7.2",
   "language": "julia",
   "name": "julia-1.7"
  },
  "language_info": {
   "file_extension": ".jl",
   "mimetype": "application/julia",
   "name": "julia",
   "version": "1.7.2"
  },
  "orig_nbformat": 4
 },
 "nbformat": 4,
 "nbformat_minor": 2
}
